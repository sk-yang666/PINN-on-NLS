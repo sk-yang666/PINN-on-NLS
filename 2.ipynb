{
 "cells": [
  {
   "cell_type": "markdown",
   "id": "71e959fa",
   "metadata": {},
   "source": [
    "# 代码来源：https://blog.csdn.net/qq_42818403/article/details/122907583"
   ]
  },
  {
   "cell_type": "code",
   "execution_count": 11,
   "id": "dffd5add",
   "metadata": {},
   "outputs": [
    {
     "name": "stdout",
     "output_type": "stream",
     "text": [
      "D:\\anaconda\\python.exe\n",
      "D:\\anaconda\\python.exe\n"
     ]
    }
   ],
   "source": [
    "import numpy as np\n",
    "import sys\n",
    "print(sys.executable)\n",
    "\n",
    "import deepxde as dde\n",
    "\n",
    "# 用于绘图\n",
    "import matplotlib.pyplot as plt\n",
    "from scipy.interpolate import griddata\n",
    "\n",
    "print(sys.executable)"
   ]
  },
  {
   "cell_type": "code",
   "execution_count": null,
   "id": "903da615",
   "metadata": {},
   "outputs": [],
   "source": []
  },
  {
   "cell_type": "code",
   "execution_count": 12,
   "id": "b84920bb",
   "metadata": {},
   "outputs": [],
   "source": [
    "#周期性边界条件\n",
    "x_lower = -5\n",
    "x_upper = 5\n",
    "t_lower = 0\n",
    "t_upper = np.pi / 2\n",
    "\n",
    "# 创建 2D 域（用于绘图和输入）\n",
    "x = np.linspace(x_lower, x_upper, 256)\n",
    "t = np.linspace(t_lower, t_upper, 201)\n",
    "X, T = np.meshgrid(x, t)\n",
    "\n",
    "\n",
    "# 整个域变平\n",
    "X_star = np.hstack((X.flatten()[:, None], T.flatten()[:, None]))\n",
    "\n",
    "# 空间和时间域/几何（对于 deepxde 模型）\n",
    "space_domain = dde.geometry.Interval(x_lower, x_upper)\n",
    "time_domain = dde.geometry.TimeDomain(t_lower, t_upper)\n",
    "geomtime = dde.geometry.GeometryXTime(space_domain, time_domain)\n"
   ]
  },
  {
   "cell_type": "code",
   "execution_count": 13,
   "id": "38d45ddd",
   "metadata": {},
   "outputs": [],
   "source": [
    "# 损失的“物理信息”部分\n",
    "\n",
    "\n",
    "def pde(x,y):\n",
    "    \"\"\"\n",
    "    INPUTS:\n",
    "        x: x[:,0] 是 x 坐标\n",
    "           x[:,1] 是 t 坐标\n",
    "        y: 网络输出，在这种情况下:\n",
    "            y[:,0] 是 u(x,t) 实部\n",
    "            y[:,1] 是 v(x,t) 虚部\n",
    "    OUTPUT:\n",
    "        标准形式的 pde，即必须为零的东西\n",
    "    \"\"\"\n",
    "    \n",
    "    \n",
    "    u1 = y[:, 0:1]\n",
    "    v1 = y[:, 1:2]\n",
    "    u2 = y[:, 2:3]\n",
    "    v2 = y[:, 3:4]\n",
    "    \n",
    "\n",
    "    # 在'jacobian'中，i 是输出分量，j 是输入分量\n",
    "    u1_t = dde.grad.jacobian(y, x, i=0, j=1)\n",
    "    v1_t = dde.grad.jacobian(y, x, i=1, j=1)\n",
    "    u2_t = dde.grad.jacobian(y, x, i=2, j=1)\n",
    "    v2_t = dde.grad.jacobian(y, x, i=3, j=1)\n",
    "\n",
    "    u1_x = dde.grad.jacobian(y, x, i=0, j=0)\n",
    "    v1_x = dde.grad.jacobian(y, x, i=1, j=0)\n",
    "    u2_x = dde.grad.jacobian(y, x, i=2, j=0)\n",
    "    v2_x = dde.grad.jacobian(y, x, i=3, j=0)\n",
    "\n",
    "    # 在“hessian”中，i 和 j 都是输入分量。 （Hessian 原则上可以是 d^2y/dxdt、d^2y/d^2x 等）\n",
    "    # 输出组件由“组件”选择\n",
    "    u1_xx = dde.grad.hessian(y, x, component=0, i=0, j=0)\n",
    "    v1_xx = dde.grad.hessian(y, x, component=1, i=0, j=0)\n",
    "    u2_xx = dde.grad.hessian(y, x, component=2, i=0, j=0)\n",
    "    v2_xx = dde.grad.hessian(y, x, component=3, i=0, j=0)\n",
    "\n",
    "    #f_u = u_t + 0.5 * v_xx + (u ** 2 + v ** 2) * v\n",
    "    #f_v = v_t - 0.5 * u_xx - (u ** 2 + v ** 2) * u\n",
    "    \n",
    "    f_u1 = u1_t + v1_xx + 2*(v1 ** 2 + u1 ** 2 + 2*(v2 ** 2 + u2 ** 2)) * v1 - 2*v1*(v2 ** 2 - u2 ** 2) - 4*v2*u1*u2\n",
    "    f_v1 = v1_t - u1_xx - 2*(v1 ** 2 + u1 ** 2 + 2*(v2 ** 2 + u2 ** 2)) * u1 - 2*u1*(v2 ** 2 - u2 ** 2) + 4*v1*v2*u2\n",
    "    \n",
    "    f_u2 = u2_t + v2_xx + 2*(v2 ** 2 + u2 ** 2 + 2*(v1 ** 2 + u1 ** 2)) * v2 - 2*v2*(v1 ** 2 - u1 ** 2) - 4*v1*u2*u1\n",
    "    f_v2 = v2_t - u2_xx - 2*(v2 ** 2 + u2 ** 2 + 2*(v1 ** 2 + u1 ** 2)) * u2 - 2*u2*(v1 ** 2 - u1 ** 2) + 4*v2*v1*u1\n",
    "\n",
    "    return [f_u1, f_v1,f_u2,f_v2]\n"
   ]
  },
  {
   "cell_type": "code",
   "execution_count": 14,
   "id": "63180574",
   "metadata": {},
   "outputs": [],
   "source": [
    "# 边界条件和初始条件\n",
    "\n",
    "# 周期性边界条件\n",
    "bc_u1_0 = dde.PeriodicBC(\n",
    "    geomtime, 0, lambda _, on_boundary: on_boundary, derivative_order=0, component=0\n",
    ")\n",
    "bc_u1_1 = dde.PeriodicBC(\n",
    "    geomtime, 0, lambda _, on_boundary: on_boundary, derivative_order=1, component=0\n",
    ")\n",
    "bc_v1_0 = dde.PeriodicBC(\n",
    "    geomtime, 0, lambda _, on_boundary: on_boundary, derivative_order=0, component=1\n",
    ")\n",
    "bc_v1_1 = dde.PeriodicBC(\n",
    "    geomtime, 0, lambda _, on_boundary: on_boundary, derivative_order=1, component=1\n",
    ")\n",
    "bc_u2_0 = dde.PeriodicBC(\n",
    "    geomtime, 0, lambda _, on_boundary: on_boundary, derivative_order=0, component=2\n",
    ")\n",
    "bc_u2_1 = dde.PeriodicBC(\n",
    "    geomtime, 0, lambda _, on_boundary: on_boundary, derivative_order=1, component=2\n",
    ")\n",
    "bc_v2_0 = dde.PeriodicBC(\n",
    "    geomtime, 0, lambda _, on_boundary: on_boundary, derivative_order=0, component=3\n",
    ")\n",
    "bc_v2_1 = dde.PeriodicBC(\n",
    "    geomtime, 0, lambda _, on_boundary: on_boundary, derivative_order=1, component=3\n",
    ")\n",
    "\n",
    "# 初始条件\n",
    "def init_cond_u(x):\n",
    "    \"2 sech(x)\"\n",
    "    return 2 / np.cosh(x[:, 0:1])\n",
    "\n",
    "\n",
    "def init_cond_v(x):\n",
    "    return 0\n",
    "\n",
    "\n",
    "ic_u1 = dde.IC(geomtime, init_cond_u, lambda _, on_initial: on_initial, component=0)\n",
    "ic_v1 = dde.IC(geomtime, init_cond_v, lambda _, on_initial: on_initial, component=1)\n",
    "ic_u2 = dde.IC(geomtime, init_cond_u, lambda _, on_initial: on_initial, component=2)\n",
    "ic_v2 = dde.IC(geomtime, init_cond_v, lambda _, on_initial: on_initial, component=3)\n"
   ]
  },
  {
   "cell_type": "code",
   "execution_count": 15,
   "id": "c5696daa",
   "metadata": {},
   "outputs": [],
   "source": [
    "data = dde.data.TimePDE(\n",
    "    geomtime,\n",
    "    pde,\n",
    "    [bc_u1_0, bc_u1_1, bc_v1_0, bc_v1_1,bc_u2_0, bc_u2_1, bc_v2_0, bc_v2_1, ic_u1, ic_v1,ic_u2, ic_v2],\n",
    "    num_domain=10000,\n",
    "    num_boundary=20,\n",
    "    num_initial=200,\n",
    "    train_distribution=\"pseudo\",\n",
    ")\n",
    "\n",
    "allow_unused=True\n",
    "# 网络架构\n",
    "net = dde.maps.FNN([2] + [100] * 4 + [4], \"tanh\", \"Glorot normal\")\n",
    "\n",
    "model = dde.Model(data, net)\n"
   ]
  },
  {
   "cell_type": "markdown",
   "id": "a69adb3f",
   "metadata": {},
   "source": [
    "Adam 优化"
   ]
  },
  {
   "cell_type": "code",
   "execution_count": 16,
   "id": "ac036c78",
   "metadata": {},
   "outputs": [
    {
     "name": "stdout",
     "output_type": "stream",
     "text": [
      "Compiling model...\n",
      "Building feed-forward neural network...\n",
      "'build' took 0.064418 s\n",
      "\n",
      "'compile' took 2.645161 s\n",
      "\n",
      "Warning: epochs is deprecated and will be removed in a future version. Use iterations instead.\n",
      "Initializing variables...\n",
      "Training model...\n",
      "\n",
      "Step      Train loss                                                                                                                                                          Test loss                                                                                                                                                           Test metric\n",
      "0         [4.69e-02, 1.16e-02, 1.08e-02, 7.93e-02, 2.51e-01, 4.46e-04, 2.44e-01, 1.63e-04, 1.20e+00, 2.71e-07, 2.67e-02, 7.51e-04, 7.58e-01, 2.34e-02, 8.72e-01, 8.59e-03]    [4.69e-02, 1.16e-02, 1.08e-02, 7.93e-02, 2.51e-01, 4.46e-04, 2.44e-01, 1.63e-04, 1.20e+00, 2.71e-07, 2.67e-02, 7.51e-04, 7.58e-01, 2.34e-02, 8.72e-01, 8.59e-03]    []  \n",
      "100       [9.65e-03, 2.71e-02, 6.82e-03, 2.87e-02, 2.66e-06, 1.27e-03, 4.33e-05, 8.57e-04, 2.03e-05, 1.10e-03, 2.41e-05, 9.65e-04, 2.23e-01, 2.18e-03, 2.29e-01, 2.42e-04]    [9.65e-03, 2.71e-02, 6.82e-03, 2.87e-02, 2.66e-06, 1.27e-03, 4.33e-05, 8.57e-04, 2.03e-05, 1.10e-03, 2.41e-05, 9.65e-04, 2.23e-01, 2.18e-03, 2.29e-01, 2.42e-04]    []  \n",
      "200       [1.68e-02, 2.31e-02, 1.39e-02, 2.28e-02, 2.12e-05, 1.13e-03, 1.54e-04, 1.65e-03, 9.49e-06, 1.09e-03, 4.59e-05, 9.85e-04, 1.68e-01, 9.85e-04, 1.68e-01, 1.48e-03]    [1.68e-02, 2.31e-02, 1.39e-02, 2.28e-02, 2.12e-05, 1.13e-03, 1.54e-04, 1.65e-03, 9.49e-06, 1.09e-03, 4.59e-05, 9.85e-04, 1.68e-01, 9.85e-04, 1.68e-01, 1.48e-03]    []  \n",
      "300       [2.22e-02, 2.40e-02, 2.03e-02, 2.40e-02, 3.89e-05, 8.15e-04, 1.70e-05, 3.51e-04, 4.58e-05, 8.13e-04, 1.70e-05, 2.28e-04, 1.37e-01, 2.29e-03, 1.34e-01, 1.97e-03]    [2.22e-02, 2.40e-02, 2.03e-02, 2.40e-02, 3.89e-05, 8.15e-04, 1.70e-05, 3.51e-04, 4.58e-05, 8.13e-04, 1.70e-05, 2.28e-04, 1.37e-01, 2.29e-03, 1.34e-01, 1.97e-03]    []  \n",
      "400       [2.24e-02, 3.05e-02, 2.69e-02, 2.24e-02, 8.01e-05, 7.87e-04, 1.33e-03, 2.20e-04, 1.91e-04, 6.07e-04, 2.84e-03, 2.11e-04, 1.14e-01, 2.75e-03, 1.13e-01, 3.15e-03]    [2.24e-02, 3.05e-02, 2.69e-02, 2.24e-02, 8.01e-05, 7.87e-04, 1.33e-03, 2.20e-04, 1.91e-04, 6.07e-04, 2.84e-03, 2.11e-04, 1.14e-01, 2.75e-03, 1.13e-01, 3.15e-03]    []  \n",
      "500       [2.21e-02, 3.05e-02, 2.48e-02, 2.84e-02, 1.01e-04, 6.72e-04, 9.53e-04, 1.60e-04, 9.68e-04, 3.84e-04, 1.66e-04, 8.95e-05, 1.05e-01, 2.61e-03, 1.03e-01, 3.00e-03]    [2.21e-02, 3.05e-02, 2.48e-02, 2.84e-02, 1.01e-04, 6.72e-04, 9.53e-04, 1.60e-04, 9.68e-04, 3.84e-04, 1.66e-04, 8.95e-05, 1.05e-01, 2.61e-03, 1.03e-01, 3.00e-03]    []  \n",
      "600       [2.62e-02, 2.45e-02, 2.72e-02, 2.87e-02, 8.32e-05, 4.75e-04, 4.61e-04, 1.04e-04, 5.44e-04, 2.04e-04, 6.79e-05, 2.90e-05, 9.89e-02, 2.73e-03, 9.69e-02, 3.16e-03]    [2.62e-02, 2.45e-02, 2.72e-02, 2.87e-02, 8.32e-05, 4.75e-04, 4.61e-04, 1.04e-04, 5.44e-04, 2.04e-04, 6.79e-05, 2.90e-05, 9.89e-02, 2.73e-03, 9.69e-02, 3.16e-03]    []  \n",
      "700       [2.30e-02, 3.10e-02, 2.46e-02, 2.93e-02, 1.14e-04, 3.35e-04, 5.34e-05, 7.81e-05, 2.01e-04, 1.32e-04, 2.90e-05, 1.78e-05, 9.25e-02, 2.75e-03, 9.11e-02, 3.05e-03]    [2.30e-02, 3.10e-02, 2.46e-02, 2.93e-02, 1.14e-04, 3.35e-04, 5.34e-05, 7.81e-05, 2.01e-04, 1.32e-04, 2.90e-05, 1.78e-05, 9.25e-02, 2.75e-03, 9.11e-02, 3.05e-03]    []  \n",
      "800       [2.06e-02, 3.69e-02, 2.23e-02, 3.26e-02, 4.74e-05, 2.33e-04, 2.63e-04, 6.54e-05, 2.59e-04, 1.33e-04, 1.98e-05, 2.09e-05, 8.70e-02, 2.66e-03, 8.61e-02, 2.70e-03]    [2.06e-02, 3.69e-02, 2.23e-02, 3.26e-02, 4.74e-05, 2.33e-04, 2.63e-04, 6.54e-05, 2.59e-04, 1.33e-04, 1.98e-05, 2.09e-05, 8.70e-02, 2.66e-03, 8.61e-02, 2.70e-03]    []  \n",
      "900       [1.47e-02, 5.92e-02, 1.72e-02, 5.34e-02, 4.77e-05, 2.32e-04, 6.60e-05, 5.93e-05, 1.61e-05, 2.67e-04, 2.10e-05, 2.51e-05, 8.25e-02, 2.46e-03, 8.18e-02, 2.27e-03]    [1.47e-02, 5.92e-02, 1.72e-02, 5.34e-02, 4.77e-05, 2.32e-04, 6.60e-05, 5.93e-05, 1.61e-05, 2.67e-04, 2.10e-05, 2.51e-05, 8.25e-02, 2.46e-03, 8.18e-02, 2.27e-03]    []  \n",
      "1000      [1.71e-02, 4.06e-02, 1.83e-02, 4.26e-02, 1.54e-04, 2.01e-04, 1.32e-04, 3.77e-05, 3.93e-04, 3.43e-04, 2.40e-05, 2.24e-05, 8.10e-02, 2.28e-03, 8.01e-02, 2.01e-03]    [1.71e-02, 4.06e-02, 1.83e-02, 4.26e-02, 1.54e-04, 2.01e-04, 1.32e-04, 3.77e-05, 3.93e-04, 3.43e-04, 2.40e-05, 2.24e-05, 8.10e-02, 2.28e-03, 8.01e-02, 2.01e-03]    []  \n",
      "\n",
      "Best model at step 1000:\n",
      "  train loss: 2.85e-01\n",
      "  test loss: 2.85e-01\n",
      "  test metric: []\n",
      "\n",
      "'train' took 38.171353 s\n",
      "\n"
     ]
    },
    {
     "data": {
      "text/plain": [
       "(<deepxde.model.LossHistory at 0x1ddaa9d1340>,\n",
       " <deepxde.model.TrainState at 0x1ddaa9d18b0>)"
      ]
     },
     "execution_count": 16,
     "metadata": {},
     "output_type": "execute_result"
    }
   ],
   "source": [
    "\n",
    "# 强烈建议使用 GPU 加速系统.\n",
    "\n",
    "model.compile(\"adam\", lr=1e-3, loss=\"MSE\")\n",
    "model.train(epochs=1000, display_every=100)\n"
   ]
  },
  {
   "cell_type": "markdown",
   "id": "a1ac17f6",
   "metadata": {},
   "source": [
    "L-BFGS 优化"
   ]
  },
  {
   "cell_type": "code",
   "execution_count": 17,
   "id": "7529e984",
   "metadata": {},
   "outputs": [
    {
     "name": "stdout",
     "output_type": "stream",
     "text": [
      "Compiling model...\n",
      "'compile' took 2.094353 s\n",
      "\n",
      "Training model...\n",
      "\n",
      "Step      Train loss                                                                                                                                                          Test loss                                                                                                                                                           Test metric\n",
      "1000      [1.71e-02, 4.06e-02, 1.83e-02, 4.26e-02, 1.54e-04, 2.01e-04, 1.32e-04, 3.77e-05, 3.93e-04, 3.43e-04, 2.40e-05, 2.24e-05, 8.10e-02, 2.28e-03, 8.01e-02, 2.01e-03]    [1.71e-02, 4.06e-02, 1.83e-02, 4.26e-02, 1.54e-04, 2.01e-04, 1.32e-04, 3.77e-05, 3.93e-04, 3.43e-04, 2.40e-05, 2.24e-05, 8.10e-02, 2.28e-03, 8.01e-02, 2.01e-03]    []  \n",
      "2000      [1.04e-02, 9.98e-03, 1.01e-02, 1.02e-02, 5.97e-06, 1.24e-05, 3.48e-06, 3.97e-05, 4.31e-06, 4.03e-05, 4.38e-06, 3.46e-05, 2.93e-02, 3.87e-04, 2.84e-02, 4.19e-04]                                                                                                                                                                            \n",
      "INFO:tensorflow:Optimization terminated with:\n",
      "  Message: STOP: TOTAL NO. of f AND g EVALUATIONS EXCEEDS LIMIT\n",
      "  Objective function value: 0.099224\n",
      "  Number of iterations: 952\n",
      "  Number of functions evaluations: 1001\n",
      "2001      [1.03e-02, 1.00e-02, 1.01e-02, 1.03e-02, 3.33e-06, 1.39e-05, 3.71e-06, 4.00e-05, 6.02e-06, 4.43e-05, 4.59e-06, 3.51e-05, 2.92e-02, 3.92e-04, 2.83e-02, 4.22e-04]    [1.03e-02, 1.00e-02, 1.01e-02, 1.03e-02, 3.33e-06, 1.39e-05, 3.71e-06, 4.00e-05, 6.02e-06, 4.43e-05, 4.59e-06, 3.51e-05, 2.92e-02, 3.92e-04, 2.83e-02, 4.22e-04]    []  \n",
      "\n",
      "Best model at step 2001:\n",
      "  train loss: 9.92e-02\n",
      "  test loss: 9.92e-02\n",
      "  test metric: []\n",
      "\n",
      "'train' took 81.324638 s\n",
      "\n"
     ]
    },
    {
     "data": {
      "text/plain": [
       "(<deepxde.model.LossHistory at 0x1ddaa9d1340>,\n",
       " <deepxde.model.TrainState at 0x1ddaa9d18b0>)"
      ]
     },
     "execution_count": 17,
     "metadata": {},
     "output_type": "execute_result"
    }
   ],
   "source": [
    "dde.optimizers.config.set_LBFGS_options(\n",
    "    maxcor=50,\n",
    "    ftol=1.0 * np.finfo(float).eps,\n",
    "    gtol=1e-08,\n",
    "    maxiter=1000,\n",
    "    maxfun=1000,\n",
    "    maxls=50,\n",
    ")\n",
    "model.compile(\"L-BFGS\")\n",
    "model.train()\n"
   ]
  },
  {
   "cell_type": "code",
   "execution_count": 18,
   "id": "72d2ecbe",
   "metadata": {},
   "outputs": [
    {
     "name": "stdout",
     "output_type": "stream",
     "text": [
      "(256, 201)\n",
      "(256, 201)\n"
     ]
    },
    {
     "data": {
      "image/png": "[encoded data removed]",
      "text/plain": [
       "<Figure size 432x288 with 3 Axes>"
      ]
     },
     "metadata": {
      "needs_background": "light"
     },
     "output_type": "display_data"
    }
   ],
   "source": [
    "# 做预测\n",
    "prediction = model.predict(X_star, operator=None)\n",
    "\n",
    "u = griddata(X_star, prediction[:, 0], (X, T), method=\"cubic\")\n",
    "v = griddata(X_star, prediction[:, 1], (X, T), method=\"cubic\")\n",
    "\n",
    "h = np.sqrt(u ** 2 + v ** 2)\n",
    "\n",
    "print(u.T.shape)\n",
    "print(v.T.shape)\n",
    "\n",
    "\n",
    "# 绘制预测\n",
    "fig, ax = plt.subplots(3)\n",
    "\n",
    "ax[0].set_title(\"Results\")\n",
    "ax[0].set_ylabel(\"Real part\")\n",
    "ax[0].imshow(\n",
    "    u.T,\n",
    "    interpolation=\"nearest\", #插值\n",
    "    cmap=\"viridis\", #色彩图\n",
    "    extent=[t_lower, t_upper, x_lower, x_upper], #极值\n",
    "    origin=\"lower\",\n",
    "    aspect=\"auto\",\n",
    ")\n",
    "ax[1].set_ylabel(\"Imaginary part\")\n",
    "ax[1].imshow(\n",
    "    v.T,\n",
    "    interpolation=\"nearest\",\n",
    "    cmap=\"viridis\",\n",
    "    extent=[t_lower, t_upper, x_lower, x_upper],\n",
    "    origin=\"lower\",\n",
    "    aspect=\"auto\",\n",
    ")\n",
    "ax[2].set_ylabel(\"Amplitude\")\n",
    "ax[2].imshow(\n",
    "    h.T,\n",
    "    interpolation=\"nearest\",\n",
    "    cmap=\"viridis\",\n",
    "    extent=[t_lower, t_upper, x_lower, x_upper],\n",
    "    origin=\"lower\",\n",
    "    aspect=\"auto\",\n",
    ")\n",
    "\n",
    "plt.show()\n"
   ]
  },
  {
   "cell_type": "code",
   "execution_count": null,
   "id": "3f327367",
   "metadata": {},
   "outputs": [],
   "source": []
  }
 ],
 "metadata": {
  "kernelspec": {
   "display_name": "Python 3 (ipykernel)",
   "language": "python",
   "name": "python3"
  },
  "language_info": {
   "codemirror_mode": {
    "name": "ipython",
    "version": 3
   },
   "file_extension": ".py",
   "mimetype": "text/x-python",
   "name": "python",
   "nbconvert_exporter": "python",
   "pygments_lexer": "ipython3",
   "version": "3.9.12"
  }
 },
 "nbformat": 4,
 "nbformat_minor": 5
}
