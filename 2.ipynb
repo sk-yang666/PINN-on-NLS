{
 "cells": [
  {
   "cell_type": "markdown",
   "id": "71e959fa",
   "metadata": {},
   "source": [
    "# 代码来源：https://blog.csdn.net/qq_42818403/article/details/122907583"
   ]
  },
  {
   "cell_type": "code",
   "execution_count": 25,
   "id": "dffd5add",
   "metadata": {},
   "outputs": [
    {
     "name": "stdout",
     "output_type": "stream",
     "text": [
      "D:\\anaconda\\python.exe\n",
      "D:\\anaconda\\python.exe\n"
     ]
    }
   ],
   "source": [
    "import numpy as np\n",
    "import sys\n",
    "print(sys.executable)\n",
    "\n",
    "import deepxde as dde\n",
    "\n",
    "# 用于绘图\n",
    "import matplotlib.pyplot as plt\n",
    "from scipy.interpolate import griddata\n",
    "\n",
    "print(sys.executable)"
   ]
  },
  {
   "cell_type": "code",
   "execution_count": null,
   "id": "903da615",
   "metadata": {},
   "outputs": [],
   "source": []
  },
  {
   "cell_type": "code",
   "execution_count": 26,
   "id": "b84920bb",
   "metadata": {},
   "outputs": [],
   "source": [
    "#周期性边界条件\n",
    "x_lower = -5\n",
    "x_upper = 5\n",
    "t_lower = 0\n",
    "t_upper = np.pi/2\n",
    "\n",
    "# 创建 2D 域（用于绘图和输入）\n",
    "x = np.linspace(x_lower, x_upper, 512)\n",
    "t = np.linspace(t_lower, t_upper, 402)\n",
    "X, T = np.meshgrid(x, t)\n",
    "\n",
    "\n",
    "# 整个域变平\n",
    "X_star = np.hstack((X.flatten()[:, None], T.flatten()[:, None]))\n",
    "\n",
    "# 空间和时间域/几何（对于 deepxde 模型）\n",
    "space_domain = dde.geometry.Interval(x_lower, x_upper)\n",
    "time_domain = dde.geometry.TimeDomain(t_lower, t_upper)\n",
    "geomtime = dde.geometry.GeometryXTime(space_domain, time_domain)\n"
   ]
  },
  {
   "cell_type": "code",
   "execution_count": 27,
   "id": "38d45ddd",
   "metadata": {},
   "outputs": [],
   "source": [
    "# 损失的“物理信息”部分\n",
    "\n",
    "\n",
    "def pde(x,y):\n",
    "    \"\"\"\n",
    "    INPUTS:\n",
    "        x: x[:,0] 是 x 坐标\n",
    "           x[:,1] 是 t 坐标\n",
    "        y: 网络输出，在这种情况下:\n",
    "            y[:,0] 是 u(x,t) 实部\n",
    "            y[:,1] 是 v(x,t) 虚部\n",
    "    OUTPUT:\n",
    "        标准形式的 pde，即必须为零的东西\n",
    "    \"\"\"\n",
    "    \n",
    "    \n",
    "    u1 = y[:, 0:1]\n",
    "    v1 = y[:, 1:2]\n",
    "    u2 = y[:, 2:3]\n",
    "    v2 = y[:, 3:4]\n",
    "    \n",
    "\n",
    "    # 在'jacobian'中，i 是输出分量，j 是输入分量\n",
    "    u1_t = dde.grad.jacobian(y, x, i=0, j=1)\n",
    "    v1_t = dde.grad.jacobian(y, x, i=1, j=1)\n",
    "    u2_t = dde.grad.jacobian(y, x, i=2, j=1)\n",
    "    v2_t = dde.grad.jacobian(y, x, i=3, j=1)\n",
    "\n",
    "    u1_x = dde.grad.jacobian(y, x, i=0, j=0)\n",
    "    v1_x = dde.grad.jacobian(y, x, i=1, j=0)\n",
    "    u2_x = dde.grad.jacobian(y, x, i=2, j=0)\n",
    "    v2_x = dde.grad.jacobian(y, x, i=3, j=0)\n",
    "\n",
    "    # 在“hessian”中，i 和 j 都是输入分量。 （Hessian 原则上可以是 d^2y/dxdt、d^2y/d^2x 等）\n",
    "    # 输出组件由“组件”选择\n",
    "    u1_xx = dde.grad.hessian(y, x, component=0, i=0, j=0)\n",
    "    v1_xx = dde.grad.hessian(y, x, component=1, i=0, j=0)\n",
    "    u2_xx = dde.grad.hessian(y, x, component=2, i=0, j=0)\n",
    "    v2_xx = dde.grad.hessian(y, x, component=3, i=0, j=0)\n",
    "\n",
    "    #f_u = u_t + 0.5 * v_xx + (u ** 2 + v ** 2) * v\n",
    "    #f_v = v_t - 0.5 * u_xx - (u ** 2 + v ** 2) * u\n",
    "    \n",
    "    f_u1 = u1_t + v1_xx + 2*(v1 ** 2 + u1 ** 2 + 2*(v2 ** 2 + u2 ** 2)) * v1 - 2*v1*(v2 ** 2 - u2 ** 2) - 4*v2*u1*u2\n",
    "    f_v1 = v1_t - u1_xx - 2*(v1 ** 2 + u1 ** 2 + 2*(v2 ** 2 + u2 ** 2)) * u1 - 2*u1*(v2 ** 2 - u2 ** 2) + 4*v1*v2*u2\n",
    "    \n",
    "    f_u2 = u2_t + v2_xx + 2*(v2 ** 2 + u2 ** 2 + 2*(v1 ** 2 + u1 ** 2)) * v2 - 2*v2*(v1 ** 2 - u1 ** 2) - 4*v1*u2*u1\n",
    "    f_v2 = v2_t - u2_xx - 2*(v2 ** 2 + u2 ** 2 + 2*(v1 ** 2 + u1 ** 2)) * u2 - 2*u2*(v1 ** 2 - u1 ** 2) + 4*v2*v1*u1\n",
    "\n",
    "    return [f_u1, f_v1,f_u2,f_v2]\n"
   ]
  },
  {
   "cell_type": "code",
   "execution_count": 28,
   "id": "63180574",
   "metadata": {},
   "outputs": [],
   "source": [
    "# 边界条件和初始条件\n",
    "\n",
    "# 周期性边界条件\n",
    "bc_u1_0 = dde.PeriodicBC(\n",
    "    geomtime, 0, lambda _, on_boundary: on_boundary, derivative_order=0, component=0\n",
    ")\n",
    "bc_u1_1 = dde.PeriodicBC(\n",
    "    geomtime, 0, lambda _, on_boundary: on_boundary, derivative_order=1, component=0\n",
    ")\n",
    "bc_v1_0 = dde.PeriodicBC(\n",
    "    geomtime, 0, lambda _, on_boundary: on_boundary, derivative_order=0, component=1\n",
    ")\n",
    "bc_v1_1 = dde.PeriodicBC(\n",
    "    geomtime, 0, lambda _, on_boundary: on_boundary, derivative_order=1, component=1\n",
    ")\n",
    "bc_u2_0 = dde.PeriodicBC(\n",
    "    geomtime, 0, lambda _, on_boundary: on_boundary, derivative_order=0, component=2\n",
    ")\n",
    "bc_u2_1 = dde.PeriodicBC(\n",
    "    geomtime, 0, lambda _, on_boundary: on_boundary, derivative_order=1, component=2\n",
    ")\n",
    "bc_v2_0 = dde.PeriodicBC(\n",
    "    geomtime, 0, lambda _, on_boundary: on_boundary, derivative_order=0, component=3\n",
    ")\n",
    "bc_v2_1 = dde.PeriodicBC(\n",
    "    geomtime, 0, lambda _, on_boundary: on_boundary, derivative_order=1, component=3\n",
    ")\n",
    "\n",
    "# 初始条件\n",
    "def init_cond_u(x):\n",
    "    \"2 sech(x)\"\n",
    "    return 2 / np.cosh(x[:, 0:1])\n",
    "\n",
    "\n",
    "def init_cond_v(x):\n",
    "    return 0\n",
    "\n",
    "\n",
    "ic_u1 = dde.IC(geomtime, init_cond_u, lambda _, on_initial: on_initial, component=0)\n",
    "ic_v1 = dde.IC(geomtime, init_cond_v, lambda _, on_initial: on_initial, component=1)\n",
    "ic_u2 = dde.IC(geomtime, init_cond_u, lambda _, on_initial: on_initial, component=2)\n",
    "ic_v2 = dde.IC(geomtime, init_cond_v, lambda _, on_initial: on_initial, component=3)\n"
   ]
  },
  {
   "cell_type": "code",
   "execution_count": 29,
   "id": "c5696daa",
   "metadata": {},
   "outputs": [],
   "source": [
    "data = dde.data.TimePDE(\n",
    "    geomtime,\n",
    "    pde,\n",
    "    [bc_u1_0, bc_u1_1, bc_v1_0, bc_v1_1,bc_u2_0, bc_u2_1, bc_v2_0, bc_v2_1, ic_u1, ic_v1,ic_u2, ic_v2],\n",
    "    num_domain=10000,\n",
    "    num_boundary=20,\n",
    "    num_initial=200,\n",
    "    train_distribution=\"pseudo\",\n",
    ")\n",
    "\n",
    "allow_unused=True\n",
    "# 网络架构\n",
    "net = dde.maps.FNN([2] + [100] * 4 + [4], \"tanh\", \"Glorot normal\")\n",
    "\n",
    "model = dde.Model(data, net)\n"
   ]
  },
  {
   "cell_type": "markdown",
   "id": "a69adb3f",
   "metadata": {},
   "source": [
    "Adam 优化"
   ]
  },
  {
   "cell_type": "code",
   "execution_count": 30,
   "id": "ac036c78",
   "metadata": {
    "scrolled": true
   },
   "outputs": [
    {
     "name": "stdout",
     "output_type": "stream",
     "text": [
      "Compiling model...\n",
      "Building feed-forward neural network...\n",
      "'build' took 0.062335 s\n",
      "\n",
      "'compile' took 2.578459 s\n",
      "\n",
      "Warning: epochs is deprecated and will be removed in a future version. Use iterations instead.\n",
      "Initializing variables...\n",
      "Training model...\n",
      "\n",
      "Step      Train loss                                                                                                                                                          Test loss                                                                                                                                                           Test metric\n",
      "0         [2.08e+00, 4.03e-01, 9.84e-01, 8.08e-01, 4.55e-02, 7.02e-04, 3.13e+00, 3.68e-06, 2.45e-01, 2.19e-03, 1.28e+00, 1.04e-05, 8.47e-01, 4.35e-01, 8.59e-01, 2.15e-01]    [2.08e+00, 4.03e-01, 9.84e-01, 8.08e-01, 4.55e-02, 7.02e-04, 3.13e+00, 3.68e-06, 2.45e-01, 2.19e-03, 1.28e+00, 1.04e-05, 8.47e-01, 4.35e-01, 8.59e-01, 2.15e-01]    []  \n",
      "100       [1.16e-02, 2.92e-02, 1.15e-02, 2.58e-02, 2.67e-05, 1.01e-03, 5.32e-05, 3.30e-03, 4.22e-05, 7.03e-04, 2.02e-05, 2.04e-03, 2.76e-01, 3.14e-04, 2.90e-01, 5.64e-04]    [1.16e-02, 2.92e-02, 1.15e-02, 2.58e-02, 2.67e-05, 1.01e-03, 5.32e-05, 3.30e-03, 4.22e-05, 7.03e-04, 2.02e-05, 2.04e-03, 2.76e-01, 3.14e-04, 2.90e-01, 5.64e-04]    []  \n",
      "200       [1.23e-02, 3.93e-02, 1.18e-02, 3.62e-02, 2.88e-06, 1.01e-03, 5.27e-05, 1.98e-03, 2.83e-06, 6.37e-04, 3.77e-06, 1.40e-03, 2.32e-01, 1.02e-04, 2.40e-01, 1.14e-03]    [1.23e-02, 3.93e-02, 1.18e-02, 3.62e-02, 2.88e-06, 1.01e-03, 5.27e-05, 1.98e-03, 2.83e-06, 6.37e-04, 3.77e-06, 1.40e-03, 2.32e-01, 1.02e-04, 2.40e-01, 1.14e-03]    []  \n",
      "300       [1.39e-02, 3.22e-02, 1.27e-02, 3.07e-02, 2.16e-06, 9.46e-04, 7.83e-05, 1.53e-03, 1.46e-05, 8.10e-04, 1.07e-04, 1.40e-03, 2.16e-01, 2.28e-04, 2.17e-01, 8.42e-04]    [1.39e-02, 3.22e-02, 1.27e-02, 3.07e-02, 2.16e-06, 9.46e-04, 7.83e-05, 1.53e-03, 1.46e-05, 8.10e-04, 1.07e-04, 1.40e-03, 2.16e-01, 2.28e-04, 2.17e-01, 8.42e-04]    []  \n",
      "400       [1.93e-02, 2.84e-02, 1.95e-02, 2.84e-02, 6.92e-06, 1.13e-03, 3.40e-05, 1.26e-03, 8.22e-05, 1.15e-03, 2.43e-05, 7.94e-04, 1.85e-01, 1.08e-03, 1.85e-01, 2.04e-03]    [1.93e-02, 2.84e-02, 1.95e-02, 2.84e-02, 6.92e-06, 1.13e-03, 3.40e-05, 1.26e-03, 8.22e-05, 1.15e-03, 2.43e-05, 7.94e-04, 1.85e-01, 1.08e-03, 1.85e-01, 2.04e-03]    []  \n",
      "500       [2.38e-02, 2.88e-02, 2.32e-02, 2.90e-02, 7.71e-06, 1.02e-03, 1.23e-05, 7.31e-04, 2.93e-05, 1.04e-03, 2.90e-05, 5.75e-04, 1.66e-01, 2.00e-03, 1.64e-01, 2.23e-03]    [2.38e-02, 2.88e-02, 2.32e-02, 2.90e-02, 7.71e-06, 1.02e-03, 1.23e-05, 7.31e-04, 2.93e-05, 1.04e-03, 2.90e-05, 5.75e-04, 1.66e-01, 2.00e-03, 1.64e-01, 2.23e-03]    []  \n",
      "600       [2.50e-02, 2.95e-02, 2.38e-02, 3.00e-02, 1.28e-05, 8.23e-04, 2.80e-05, 6.82e-04, 1.63e-05, 9.05e-04, 2.90e-05, 6.55e-04, 1.49e-01, 3.13e-03, 1.48e-01, 2.69e-03]    [2.50e-02, 2.95e-02, 2.38e-02, 3.00e-02, 1.28e-05, 8.23e-04, 2.80e-05, 6.82e-04, 1.63e-05, 9.05e-04, 2.90e-05, 6.55e-04, 1.49e-01, 3.13e-03, 1.48e-01, 2.69e-03]    []  \n",
      "700       [2.61e-02, 3.02e-02, 2.57e-02, 3.00e-02, 1.15e-04, 6.89e-04, 5.90e-05, 5.36e-04, 3.38e-05, 7.42e-04, 2.52e-05, 4.59e-04, 1.34e-01, 3.60e-03, 1.34e-01, 3.12e-03]    [2.61e-02, 3.02e-02, 2.57e-02, 3.00e-02, 1.15e-04, 6.89e-04, 5.90e-05, 5.36e-04, 3.38e-05, 7.42e-04, 2.52e-05, 4.59e-04, 1.34e-01, 3.60e-03, 1.34e-01, 3.12e-03]    []  \n",
      "800       [2.74e-02, 3.05e-02, 2.65e-02, 2.97e-02, 1.31e-05, 5.64e-04, 1.43e-05, 3.01e-04, 3.85e-06, 6.26e-04, 2.10e-05, 2.96e-04, 1.23e-01, 3.33e-03, 1.22e-01, 2.99e-03]    [2.74e-02, 3.05e-02, 2.65e-02, 2.97e-02, 1.31e-05, 5.64e-04, 1.43e-05, 3.01e-04, 3.85e-06, 6.26e-04, 2.10e-05, 2.96e-04, 1.23e-01, 3.33e-03, 1.22e-01, 2.99e-03]    []  \n",
      "900       [2.89e-02, 3.20e-02, 2.78e-02, 3.00e-02, 4.10e-05, 4.57e-04, 1.43e-05, 2.04e-04, 2.98e-06, 5.45e-04, 9.23e-06, 2.17e-04, 1.14e-01, 2.91e-03, 1.13e-01, 2.61e-03]    [2.89e-02, 3.20e-02, 2.78e-02, 3.00e-02, 4.10e-05, 4.57e-04, 1.43e-05, 2.04e-04, 2.98e-06, 5.45e-04, 9.23e-06, 2.17e-04, 1.14e-01, 2.91e-03, 1.13e-01, 2.61e-03]    []  \n",
      "1000      [2.87e-02, 3.33e-02, 2.81e-02, 3.15e-02, 1.37e-05, 3.81e-04, 3.04e-06, 1.95e-04, 1.06e-05, 5.25e-04, 1.99e-06, 1.55e-04, 1.07e-01, 2.90e-03, 1.07e-01, 2.53e-03]    [2.87e-02, 3.33e-02, 2.81e-02, 3.15e-02, 1.37e-05, 3.81e-04, 3.04e-06, 1.95e-04, 1.06e-05, 5.25e-04, 1.99e-06, 1.55e-04, 1.07e-01, 2.90e-03, 1.07e-01, 2.53e-03]    []  \n",
      "\n",
      "Best model at step 1000:\n",
      "  train loss: 3.43e-01\n",
      "  test loss: 3.43e-01\n",
      "  test metric: []\n",
      "\n",
      "'train' took 32.239315 s\n",
      "\n"
     ]
    },
    {
     "data": {
      "text/plain": [
       "(<deepxde.model.LossHistory at 0x1bdd94a7460>,\n",
       " <deepxde.model.TrainState at 0x1be6dc8bd90>)"
      ]
     },
     "execution_count": 30,
     "metadata": {},
     "output_type": "execute_result"
    }
   ],
   "source": [
    "\n",
    "# 强烈建议使用 GPU 加速系统.\n",
    "\n",
    "model.compile(\"adam\", lr=1e-3, loss=\"MSE\")\n",
    "model.train(epochs=1000, display_every=100)\n"
   ]
  },
  {
   "cell_type": "markdown",
   "id": "a1ac17f6",
   "metadata": {},
   "source": [
    "L-BFGS 优化"
   ]
  },
  {
   "cell_type": "code",
   "execution_count": 31,
   "id": "7529e984",
   "metadata": {},
   "outputs": [
    {
     "name": "stdout",
     "output_type": "stream",
     "text": [
      "Compiling model...\n",
      "'compile' took 2.085624 s\n",
      "\n",
      "Training model...\n",
      "\n",
      "Step      Train loss                                                                                                                                                          Test loss                                                                                                                                                           Test metric\n",
      "1000      [2.87e-02, 3.33e-02, 2.81e-02, 3.15e-02, 1.37e-05, 3.81e-04, 3.04e-06, 1.95e-04, 1.06e-05, 5.25e-04, 1.99e-06, 1.55e-04, 1.07e-01, 2.90e-03, 1.07e-01, 2.53e-03]    [2.87e-02, 3.33e-02, 2.81e-02, 3.15e-02, 1.37e-05, 3.81e-04, 3.04e-06, 1.95e-04, 1.06e-05, 5.25e-04, 1.99e-06, 1.55e-04, 1.07e-01, 2.90e-03, 1.07e-01, 2.53e-03]    []  \n",
      "2000      [1.55e-02, 1.46e-02, 1.61e-02, 1.52e-02, 3.15e-05, 1.02e-04, 3.60e-05, 1.00e-05, 1.10e-05, 1.35e-04, 8.08e-06, 7.06e-06, 3.57e-02, 1.01e-03, 3.36e-02, 9.53e-04]                                                                                                                                                                            \n",
      "INFO:tensorflow:Optimization terminated with:\n",
      "  Message: STOP: TOTAL NO. of f AND g EVALUATIONS EXCEEDS LIMIT\n",
      "  Objective function value: 0.133048\n",
      "  Number of iterations: 954\n",
      "  Number of functions evaluations: 1001\n",
      "2001      [1.56e-02, 1.43e-02, 1.63e-02, 1.50e-02, 3.29e-05, 1.02e-04, 4.49e-05, 8.89e-06, 1.16e-05, 1.34e-04, 1.31e-05, 6.57e-06, 3.58e-02, 1.03e-03, 3.37e-02, 9.69e-04]    [1.56e-02, 1.43e-02, 1.63e-02, 1.50e-02, 3.29e-05, 1.02e-04, 4.49e-05, 8.89e-06, 1.16e-05, 1.34e-04, 1.31e-05, 6.57e-06, 3.58e-02, 1.03e-03, 3.37e-02, 9.69e-04]    []  \n",
      "\n",
      "Best model at step 2001:\n",
      "  train loss: 1.33e-01\n",
      "  test loss: 1.33e-01\n",
      "  test metric: []\n",
      "\n",
      "'train' took 71.681732 s\n",
      "\n"
     ]
    },
    {
     "data": {
      "text/plain": [
       "(<deepxde.model.LossHistory at 0x1bdd94a7460>,\n",
       " <deepxde.model.TrainState at 0x1be6dc8bd90>)"
      ]
     },
     "execution_count": 31,
     "metadata": {},
     "output_type": "execute_result"
    }
   ],
   "source": [
    "dde.optimizers.config.set_LBFGS_options(\n",
    "    maxcor=50,\n",
    "    ftol=1.0 * np.finfo(float).eps,\n",
    "    gtol=1e-08,\n",
    "    maxiter=1000,\n",
    "    maxfun=1000,\n",
    "    maxls=50,\n",
    ")\n",
    "model.compile(\"L-BFGS\")\n",
    "model.train()\n"
   ]
  },
  {
   "cell_type": "code",
   "execution_count": 32,
   "id": "72d2ecbe",
   "metadata": {},
   "outputs": [
    {
     "name": "stdout",
     "output_type": "stream",
     "text": [
      "(512, 402)\n",
      "(512, 402)\n"
     ]
    },
    {
     "data": {
      "image/png": "[encoded data removed]",
      "text/plain": [
       "<Figure size 432x288 with 6 Axes>"
      ]
     },
     "metadata": {
      "needs_background": "light"
     },
     "output_type": "display_data"
    }
   ],
   "source": [
    "# 做预测\n",
    "prediction = model.predict(X_star, operator=None)\n",
    "\n",
    "u1 = griddata(X_star, prediction[:, 0], (X, T), method=\"cubic\")\n",
    "v1 = griddata(X_star, prediction[:, 1], (X, T), method=\"cubic\")\n",
    "u2 = griddata(X_star, prediction[:, 0], (X, T), method=\"cubic\")\n",
    "v2 = griddata(X_star, prediction[:, 1], (X, T), method=\"cubic\")\n",
    "\n",
    "\n",
    "h1 = np.sqrt(u ** 2 + v ** 2)\n",
    "h2=np.sqrt(u**2+v**2)\n",
    "\n",
    "print(u.T.shape)\n",
    "print(v.T.shape)\n",
    "\n",
    "\n",
    "# 绘制预测\n",
    "fig, ax = plt.subplots(6)\n",
    "\n",
    "ax[0].set_title(\"Results1\")\n",
    "ax[0].set_ylabel(\"Real part1\")\n",
    "ax[0].imshow(\n",
    "    u.T,\n",
    "    interpolation=\"nearest\", #插值\n",
    "    cmap=\"viridis\", #色彩图\n",
    "    extent=[t_lower, t_upper, x_lower, x_upper], #极值\n",
    "    origin=\"lower\",\n",
    "    aspect=\"auto\",\n",
    ")\n",
    "ax[1].set_ylabel(\"Imaginary part1\")\n",
    "ax[1].imshow(\n",
    "    v.T,\n",
    "    interpolation=\"nearest\",\n",
    "    cmap=\"viridis\",\n",
    "    extent=[t_lower, t_upper, x_lower, x_upper],\n",
    "    origin=\"lower\",\n",
    "    aspect=\"auto\",\n",
    ")\n",
    "ax[2].set_ylabel(\"Amplitude1\")\n",
    "ax[2].imshow(\n",
    "    h.T,\n",
    "    interpolation=\"nearest\",\n",
    "    cmap=\"viridis\",\n",
    "    extent=[t_lower, t_upper, x_lower, x_upper],\n",
    "    origin=\"lower\",\n",
    "    aspect=\"auto\",\n",
    ")\n",
    "ax[3].set_title(\"Results2\")\n",
    "ax[3].set_ylabel(\"Real part2\")\n",
    "ax[3].imshow(\n",
    "    u.T,\n",
    "    interpolation=\"nearest\", #插值\n",
    "    cmap=\"viridis\", #色彩图\n",
    "    extent=[t_lower, t_upper, x_lower, x_upper], #极值\n",
    "    origin=\"lower\",\n",
    "    aspect=\"auto\",\n",
    ")\n",
    "ax[4].set_ylabel(\"Imaginary part2\")\n",
    "ax[4].imshow(\n",
    "    v.T,\n",
    "    interpolation=\"nearest\",\n",
    "    cmap=\"viridis\",\n",
    "    extent=[t_lower, t_upper, x_lower, x_upper],\n",
    "    origin=\"lower\",\n",
    "    aspect=\"auto\",\n",
    ")\n",
    "ax[5].set_ylabel(\"Amplitude2\")\n",
    "ax[5].imshow(\n",
    "    h.T,\n",
    "    interpolation=\"nearest\",\n",
    "    cmap=\"viridis\",\n",
    "    extent=[t_lower, t_upper, x_lower, x_upper],\n",
    "    origin=\"lower\",\n",
    "    aspect=\"auto\",\n",
    ")\n",
    "plt.show()\n"
   ]
  },
  {
   "cell_type": "code",
   "execution_count": null,
   "id": "3f327367",
   "metadata": {},
   "outputs": [],
   "source": []
  }
 ],
 "metadata": {
  "kernelspec": {
   "display_name": "Python 3 (ipykernel)",
   "language": "python",
   "name": "python3"
  },
  "language_info": {
   "codemirror_mode": {
    "name": "ipython",
    "version": 3
   },
   "file_extension": ".py",
   "mimetype": "text/x-python",
   "name": "python",
   "nbconvert_exporter": "python",
   "pygments_lexer": "ipython3",
   "version": "3.9.12"
  }
 },
 "nbformat": 4,
 "nbformat_minor": 5
}
