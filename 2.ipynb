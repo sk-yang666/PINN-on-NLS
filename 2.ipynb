{
 "cells": [
  {
   "cell_type": "markdown",
   "id": "71e959fa",
   "metadata": {},
   "source": [
    "# 代码来源：https://blog.csdn.net/qq_42818403/article/details/122907583"
   ]
  },
  {
   "cell_type": "code",
   "execution_count": 57,
   "id": "dffd5add",
   "metadata": {},
   "outputs": [
    {
     "name": "stdout",
     "output_type": "stream",
     "text": [
      "D:\\anaconda\\python.exe\n",
      "D:\\anaconda\\python.exe\n"
     ]
    }
   ],
   "source": [
    "import numpy as np\n",
    "import sys\n",
    "print(sys.executable)\n",
    "from mpl_toolkits import mplot3d\n",
    "\n",
    "\n",
    "import deepxde as dde\n",
    "\n",
    "# 用于绘图\n",
    "import matplotlib.pyplot as plt\n",
    "from scipy.interpolate import griddata\n",
    "\n",
    "print(sys.executable)"
   ]
  },
  {
   "cell_type": "code",
   "execution_count": null,
   "id": "903da615",
   "metadata": {},
   "outputs": [],
   "source": []
  },
  {
   "cell_type": "code",
   "execution_count": 58,
   "id": "b84920bb",
   "metadata": {},
   "outputs": [],
   "source": [
    "#周期性边界条件\n",
    "x_lower = -5\n",
    "x_upper = 5\n",
    "t_lower = 0\n",
    "t_upper = np.pi/2\n",
    "\n",
    "# 创建 2D 域（用于绘图和输入）\n",
    "x = np.linspace(x_lower, x_upper, 512)\n",
    "t = np.linspace(t_lower, t_upper, 402)\n",
    "X, T = np.meshgrid(x, t)\n",
    "\n",
    "# 整个域变平\n",
    "X_star = np.hstack((X.flatten()[:, None], T.flatten()[:, None]))\n",
    "\n",
    "# 空间和时间域/几何（对于 deepxde 模型）\n",
    "space_domain = dde.geometry.Interval(x_lower, x_upper)\n",
    "time_domain = dde.geometry.TimeDomain(t_lower, t_upper)\n",
    "geomtime = dde.geometry.GeometryXTime(space_domain, time_domain)\n"
   ]
  },
  {
   "cell_type": "code",
   "execution_count": 59,
   "id": "38d45ddd",
   "metadata": {},
   "outputs": [],
   "source": [
    "# 损失的“物理信息”部分\n",
    "\n",
    "\n",
    "def pde(x,y):\n",
    "    \"\"\"\n",
    "    INPUTS:\n",
    "        x: x[:,0] 是 x 坐标\n",
    "           x[:,1] 是 t 坐标\n",
    "        y: 网络输出，在这种情况下:\n",
    "            y[:,0] 是 u(x,t) 实部\n",
    "            y[:,1] 是 v(x,t) 虚部\n",
    "    OUTPUT:\n",
    "        标准形式的 pde，即必须为零的东西\n",
    "    \"\"\"\n",
    "    \n",
    "    \n",
    "    u1 = y[:, 0:1]\n",
    "    v1 = y[:, 1:2]\n",
    "    u2 = y[:, 2:3]\n",
    "    v2 = y[:, 3:4]\n",
    "    \n",
    "\n",
    "    # 在'jacobian'中，i 是输出分量，j 是输入分量\n",
    "    u1_t = dde.grad.jacobian(y, x, i=0, j=1)\n",
    "    v1_t = dde.grad.jacobian(y, x, i=1, j=1)\n",
    "    u2_t = dde.grad.jacobian(y, x, i=2, j=1)\n",
    "    v2_t = dde.grad.jacobian(y, x, i=3, j=1)\n",
    "\n",
    "    u1_x = dde.grad.jacobian(y, x, i=0, j=0)\n",
    "    v1_x = dde.grad.jacobian(y, x, i=1, j=0)\n",
    "    u2_x = dde.grad.jacobian(y, x, i=2, j=0)\n",
    "    v2_x = dde.grad.jacobian(y, x, i=3, j=0)\n",
    "\n",
    "    # 在“hessian”中，i 和 j 都是输入分量。 （Hessian 原则上可以是 d^2y/dxdt、d^2y/d^2x 等）\n",
    "    # 输出组件由“组件”选择\n",
    "    u1_xx = dde.grad.hessian(y, x, component=0, i=0, j=0)\n",
    "    v1_xx = dde.grad.hessian(y, x, component=1, i=0, j=0)\n",
    "    u2_xx = dde.grad.hessian(y, x, component=2, i=0, j=0)\n",
    "    v2_xx = dde.grad.hessian(y, x, component=3, i=0, j=0)\n",
    "\n",
    "    #f_u = u_t + 0.5 * v_xx + (u ** 2 + v ** 2) * v\n",
    "    #f_v = v_t - 0.5 * u_xx - (u ** 2 + v ** 2) * u\n",
    "    \n",
    "    f_u1 = u1_t + v1_xx + 2*(v1 ** 2 + u1 ** 2 + 2*(v2 ** 2 + u2 ** 2)) * v1 - 2*v1*(v2 ** 2 - u2 ** 2) - 4*v2*u1*u2\n",
    "    f_v1 = v1_t - u1_xx - 2*(v1 ** 2 + u1 ** 2 + 2*(v2 ** 2 + u2 ** 2)) * u1 - 2*u1*(v2 ** 2 - u2 ** 2) + 4*v1*v2*u2\n",
    "    \n",
    "    f_u2 = u2_t + v2_xx + 2*(v2 ** 2 + u2 ** 2 + 2*(v1 ** 2 + u1 ** 2)) * v2 - 2*v2*(v1 ** 2 - u1 ** 2) - 4*v1*u2*u1\n",
    "    f_v2 = v2_t - u2_xx - 2*(v2 ** 2 + u2 ** 2 + 2*(v1 ** 2 + u1 ** 2)) * u2 - 2*u2*(v1 ** 2 - u1 ** 2) + 4*v2*v1*u1\n",
    "\n",
    "    return [f_u1, f_v1,f_u2,f_v2]\n"
   ]
  },
  {
   "cell_type": "code",
   "execution_count": 60,
   "id": "63180574",
   "metadata": {},
   "outputs": [],
   "source": [
    "# 边界条件和初始条件\n",
    "\n",
    "# 周期性边界条件\n",
    "bc_u1_0 = dde.PeriodicBC(\n",
    "    geomtime, 0, lambda _, on_boundary: on_boundary, derivative_order=0, component=0\n",
    ")\n",
    "bc_u1_1 = dde.PeriodicBC(\n",
    "    geomtime, 0, lambda _, on_boundary: on_boundary, derivative_order=1, component=0\n",
    ")\n",
    "bc_v1_0 = dde.PeriodicBC(\n",
    "    geomtime, 0, lambda _, on_boundary: on_boundary, derivative_order=0, component=1\n",
    ")\n",
    "bc_v1_1 = dde.PeriodicBC(\n",
    "    geomtime, 0, lambda _, on_boundary: on_boundary, derivative_order=1, component=1\n",
    ")\n",
    "bc_u2_0 = dde.PeriodicBC(\n",
    "    geomtime, 0, lambda _, on_boundary: on_boundary, derivative_order=0, component=2\n",
    ")\n",
    "bc_u2_1 = dde.PeriodicBC(\n",
    "    geomtime, 0, lambda _, on_boundary: on_boundary, derivative_order=1, component=2\n",
    ")\n",
    "bc_v2_0 = dde.PeriodicBC(\n",
    "    geomtime, 0, lambda _, on_boundary: on_boundary, derivative_order=0, component=3\n",
    ")\n",
    "bc_v2_1 = dde.PeriodicBC(\n",
    "    geomtime, 0, lambda _, on_boundary: on_boundary, derivative_order=1, component=3\n",
    ")\n",
    "\n",
    "# 初始条件\n",
    "def init_cond_u(x):\n",
    "    \"2 sech(x)\"\n",
    "    return 2 / np.cosh(x[:, 0:1])\n",
    "\n",
    "\n",
    "def init_cond_v(x):\n",
    "    return 0\n",
    "\n",
    "\n",
    "ic_u1 = dde.IC(geomtime, init_cond_u, lambda _, on_initial: on_initial, component=0)\n",
    "ic_v1 = dde.IC(geomtime, init_cond_v, lambda _, on_initial: on_initial, component=1)\n",
    "ic_u2 = dde.IC(geomtime, init_cond_u, lambda _, on_initial: on_initial, component=2)\n",
    "ic_v2 = dde.IC(geomtime, init_cond_v, lambda _, on_initial: on_initial, component=3)\n"
   ]
  },
  {
   "cell_type": "code",
   "execution_count": 61,
   "id": "c5696daa",
   "metadata": {},
   "outputs": [],
   "source": [
    "data = dde.data.TimePDE(\n",
    "    geomtime,\n",
    "    pde,\n",
    "    [bc_u1_0, bc_u1_1, bc_v1_0, bc_v1_1,bc_u2_0, bc_u2_1, bc_v2_0, bc_v2_1, ic_u1, ic_v1,ic_u2, ic_v2],\n",
    "    num_domain=10000,\n",
    "    num_boundary=20,\n",
    "    num_initial=200,\n",
    "    train_distribution=\"pseudo\",\n",
    ")\n",
    "\n",
    "allow_unused=True\n",
    "# 网络架构\n",
    "net = dde.maps.FNN([2] + [100] * 4 + [4], \"tanh\", \"Glorot normal\")\n",
    "\n",
    "model = dde.Model(data, net)\n"
   ]
  },
  {
   "cell_type": "markdown",
   "id": "a69adb3f",
   "metadata": {},
   "source": [
    "Adam 优化"
   ]
  },
  {
   "cell_type": "code",
   "execution_count": 62,
   "id": "ac036c78",
   "metadata": {
    "scrolled": true
   },
   "outputs": [
    {
     "name": "stdout",
     "output_type": "stream",
     "text": [
      "Compiling model...\n",
      "Building feed-forward neural network...\n",
      "'build' took 0.061435 s\n",
      "\n",
      "'compile' took 2.819547 s\n",
      "\n",
      "Warning: epochs is deprecated and will be removed in a future version. Use iterations instead.\n",
      "Initializing variables...\n",
      "Training model...\n",
      "\n",
      "Step      Train loss                                                                                                                                                          Test loss                                                                                                                                                           Test metric\n",
      "0         [7.29e-01, 4.59e-02, 4.79e-01, 4.01e-01, 1.36e-02, 7.11e-05, 1.60e+00, 1.48e-03, 5.40e-01, 1.30e-05, 1.51e+00, 1.73e-03, 7.78e-01, 2.20e-01, 8.52e-01, 2.01e-01]    [7.29e-01, 4.59e-02, 4.79e-01, 4.01e-01, 1.36e-02, 7.11e-05, 1.60e+00, 1.48e-03, 5.40e-01, 1.30e-05, 1.51e+00, 1.73e-03, 7.78e-01, 2.20e-01, 8.52e-01, 2.01e-01]    []  \n",
      "100       [1.04e-02, 2.49e-02, 9.89e-03, 2.32e-02, 2.46e-05, 2.23e-03, 1.72e-04, 1.17e-03, 3.60e-05, 2.77e-03, 2.22e-04, 8.59e-04, 2.74e-01, 8.27e-04, 2.82e-01, 1.09e-03]    [1.04e-02, 2.49e-02, 9.89e-03, 2.32e-02, 2.46e-05, 2.23e-03, 1.72e-04, 1.17e-03, 3.60e-05, 2.77e-03, 2.22e-04, 8.59e-04, 2.74e-01, 8.27e-04, 2.82e-01, 1.09e-03]    []  \n",
      "200       [1.28e-02, 3.47e-02, 1.11e-02, 3.00e-02, 8.40e-06, 1.51e-03, 8.86e-06, 1.60e-03, 1.38e-05, 2.08e-03, 3.73e-05, 9.90e-04, 2.20e-01, 1.85e-03, 2.27e-01, 1.67e-03]    [1.28e-02, 3.47e-02, 1.11e-02, 3.00e-02, 8.40e-06, 1.51e-03, 8.86e-06, 1.60e-03, 1.38e-05, 2.08e-03, 3.73e-05, 9.90e-04, 2.20e-01, 1.85e-03, 2.27e-01, 1.67e-03]    []  \n",
      "300       [1.43e-02, 3.11e-02, 1.43e-02, 2.70e-02, 6.66e-07, 1.18e-03, 1.53e-04, 2.13e-03, 6.18e-06, 1.64e-03, 2.76e-04, 7.39e-04, 2.08e-01, 7.92e-04, 2.02e-01, 6.69e-04]    [1.43e-02, 3.11e-02, 1.43e-02, 2.70e-02, 6.66e-07, 1.18e-03, 1.53e-04, 2.13e-03, 6.18e-06, 1.64e-03, 2.76e-04, 7.39e-04, 2.08e-01, 7.92e-04, 2.02e-01, 6.69e-04]    []  \n",
      "400       [1.83e-02, 2.54e-02, 1.84e-02, 2.61e-02, 1.33e-05, 1.51e-03, 9.67e-06, 1.03e-03, 5.09e-05, 1.87e-03, 3.80e-05, 4.61e-04, 1.71e-01, 1.33e-03, 1.68e-01, 1.35e-03]    [1.83e-02, 2.54e-02, 1.84e-02, 2.61e-02, 1.33e-05, 1.51e-03, 9.67e-06, 1.03e-03, 5.09e-05, 1.87e-03, 3.80e-05, 4.61e-04, 1.71e-01, 1.33e-03, 1.68e-01, 1.35e-03]    []  \n",
      "500       [2.22e-02, 2.55e-02, 2.26e-02, 2.48e-02, 2.75e-05, 1.20e-03, 2.99e-05, 4.56e-04, 7.54e-06, 1.82e-03, 3.98e-05, 1.78e-04, 1.48e-01, 1.57e-03, 1.48e-01, 1.92e-03]    [2.22e-02, 2.55e-02, 2.26e-02, 2.48e-02, 2.75e-05, 1.20e-03, 2.99e-05, 4.56e-04, 7.54e-06, 1.82e-03, 3.98e-05, 1.78e-04, 1.48e-01, 1.57e-03, 1.48e-01, 1.92e-03]    []  \n",
      "600       [2.29e-02, 2.54e-02, 2.38e-02, 2.47e-02, 2.12e-05, 8.98e-04, 1.60e-05, 4.33e-04, 5.19e-06, 1.41e-03, 4.22e-05, 1.34e-04, 1.30e-01, 2.44e-03, 1.32e-01, 2.90e-03]    [2.29e-02, 2.54e-02, 2.38e-02, 2.47e-02, 2.12e-05, 8.98e-04, 1.60e-05, 4.33e-04, 5.19e-06, 1.41e-03, 4.22e-05, 1.34e-04, 1.30e-01, 2.44e-03, 1.32e-01, 2.90e-03]    []  \n",
      "700       [2.53e-02, 2.75e-02, 2.50e-02, 2.70e-02, 1.70e-05, 6.76e-04, 9.33e-06, 4.06e-04, 3.77e-06, 1.05e-03, 3.16e-05, 1.72e-04, 1.14e-01, 2.90e-03, 1.16e-01, 3.25e-03]    [2.53e-02, 2.75e-02, 2.50e-02, 2.70e-02, 1.70e-05, 6.76e-04, 9.33e-06, 4.06e-04, 3.77e-06, 1.05e-03, 3.16e-05, 1.72e-04, 1.14e-01, 2.90e-03, 1.16e-01, 3.25e-03]    []  \n",
      "800       [2.64e-02, 2.79e-02, 2.64e-02, 2.87e-02, 1.25e-05, 5.75e-04, 1.32e-05, 3.25e-04, 4.31e-06, 8.09e-04, 1.73e-05, 1.30e-04, 1.06e-01, 3.01e-03, 1.06e-01, 3.21e-03]    [2.64e-02, 2.79e-02, 2.64e-02, 2.87e-02, 1.25e-05, 5.75e-04, 1.32e-05, 3.25e-04, 4.31e-06, 8.09e-04, 1.73e-05, 1.30e-04, 1.06e-01, 3.01e-03, 1.06e-01, 3.21e-03]    []  \n",
      "900       [2.25e-02, 3.72e-02, 2.57e-02, 3.15e-02, 2.29e-04, 5.78e-04, 6.55e-05, 2.20e-04, 2.98e-05, 7.06e-04, 2.94e-04, 8.80e-05, 9.99e-02, 3.06e-03, 1.00e-01, 3.06e-03]    [2.25e-02, 3.72e-02, 2.57e-02, 3.15e-02, 2.29e-04, 5.78e-04, 6.55e-05, 2.20e-04, 2.98e-05, 7.06e-04, 2.94e-04, 8.80e-05, 9.99e-02, 3.06e-03, 1.00e-01, 3.06e-03]    []  \n",
      "1000      [3.46e-02, 2.26e-02, 3.54e-02, 2.66e-02, 2.64e-04, 4.30e-04, 2.71e-04, 1.58e-04, 3.29e-05, 5.62e-04, 1.15e-03, 6.45e-05, 9.89e-02, 2.94e-03, 9.86e-02, 3.35e-03]    [3.46e-02, 2.26e-02, 3.54e-02, 2.66e-02, 2.64e-04, 4.30e-04, 2.71e-04, 1.58e-04, 3.29e-05, 5.62e-04, 1.15e-03, 6.45e-05, 9.89e-02, 2.94e-03, 9.86e-02, 3.35e-03]    []  \n",
      "\n",
      "Best model at step 900:\n",
      "  train loss: 3.25e-01\n",
      "  test loss: 3.25e-01\n",
      "  test metric: []\n",
      "\n",
      "'train' took 31.938408 s\n",
      "\n"
     ]
    },
    {
     "data": {
      "text/plain": [
       "(<deepxde.model.LossHistory at 0x1be8c37f460>,\n",
       " <deepxde.model.TrainState at 0x1be8c37f4c0>)"
      ]
     },
     "execution_count": 62,
     "metadata": {},
     "output_type": "execute_result"
    }
   ],
   "source": [
    "\n",
    "# 强烈建议使用 GPU 加速系统.\n",
    "\n",
    "model.compile(\"adam\", lr=1e-3, loss=\"MSE\")\n",
    "model.train(epochs=1000, display_every=100)\n"
   ]
  },
  {
   "cell_type": "markdown",
   "id": "a1ac17f6",
   "metadata": {},
   "source": [
    "L-BFGS 优化"
   ]
  },
  {
   "cell_type": "code",
   "execution_count": 63,
   "id": "7529e984",
   "metadata": {},
   "outputs": [
    {
     "name": "stdout",
     "output_type": "stream",
     "text": [
      "Compiling model...\n",
      "'compile' took 2.278864 s\n",
      "\n",
      "Training model...\n",
      "\n",
      "Step      Train loss                                                                                                                                                          Test loss                                                                                                                                                           Test metric\n",
      "1000      [3.46e-02, 2.26e-02, 3.54e-02, 2.66e-02, 2.64e-04, 4.30e-04, 2.71e-04, 1.58e-04, 3.29e-05, 5.62e-04, 1.15e-03, 6.45e-05, 9.89e-02, 2.94e-03, 9.86e-02, 3.35e-03]    [3.46e-02, 2.26e-02, 3.54e-02, 2.66e-02, 2.64e-04, 4.30e-04, 2.71e-04, 1.58e-04, 3.29e-05, 5.62e-04, 1.15e-03, 6.45e-05, 9.89e-02, 2.94e-03, 9.86e-02, 3.35e-03]    []  \n",
      "2000      [1.20e-02, 1.09e-02, 1.16e-02, 1.09e-02, 5.14e-06, 1.27e-04, 1.44e-05, 9.26e-06, 7.77e-06, 1.13e-04, 9.31e-06, 5.64e-06, 3.43e-02, 5.68e-04, 3.23e-02, 4.91e-04]                                                                                                                                                                            \n",
      "INFO:tensorflow:Optimization terminated with:\n",
      "  Message: STOP: TOTAL NO. of f AND g EVALUATIONS EXCEEDS LIMIT\n",
      "  Objective function value: 0.113212\n",
      "  Number of iterations: 960\n",
      "  Number of functions evaluations: 1001\n",
      "2001      [1.18e-02, 1.10e-02, 1.17e-02, 1.10e-02, 4.32e-06, 1.26e-04, 1.48e-05, 1.02e-05, 8.33e-06, 1.13e-04, 8.21e-06, 5.39e-06, 3.43e-02, 5.39e-04, 3.22e-02, 4.78e-04]    [1.18e-02, 1.10e-02, 1.17e-02, 1.10e-02, 4.32e-06, 1.26e-04, 1.48e-05, 1.02e-05, 8.33e-06, 1.13e-04, 8.21e-06, 5.39e-06, 3.43e-02, 5.39e-04, 3.22e-02, 4.78e-04]    []  \n",
      "\n",
      "Best model at step 2001:\n",
      "  train loss: 1.13e-01\n",
      "  test loss: 1.13e-01\n",
      "  test metric: []\n",
      "\n",
      "'train' took 126.573069 s\n",
      "\n"
     ]
    },
    {
     "data": {
      "text/plain": [
       "(<deepxde.model.LossHistory at 0x1be8c37f460>,\n",
       " <deepxde.model.TrainState at 0x1be8c37f4c0>)"
      ]
     },
     "execution_count": 63,
     "metadata": {},
     "output_type": "execute_result"
    }
   ],
   "source": [
    "dde.optimizers.config.set_LBFGS_options(\n",
    "    maxcor=50,\n",
    "    ftol=1.0 * np.finfo(float).eps,\n",
    "    gtol=1e-08,\n",
    "    maxiter=1000,\n",
    "    maxfun=1000,\n",
    "    maxls=50,\n",
    ")\n",
    "model.compile(\"L-BFGS\")\n",
    "model.train()\n"
   ]
  },
  {
   "cell_type": "code",
   "execution_count": 70,
   "id": "72d2ecbe",
   "metadata": {},
   "outputs": [
    {
     "name": "stdout",
     "output_type": "stream",
     "text": [
      "(512, 402)\n",
      "(512, 402)\n"
     ]
    },
    {
     "data": {
      "image/png": "[encoded data removed]",
      "text/plain": [
       "<Figure size 432x288 with 6 Axes>"
      ]
     },
     "metadata": {
      "needs_background": "light"
     },
     "output_type": "display_data"
    }
   ],
   "source": [
    "# 做预测\n",
    "prediction = model.predict(X_star, operator=None)\n",
    "\n",
    "u1 = griddata(X_star, prediction[:, 0], (X, T), method=\"cubic\")\n",
    "v1 = griddata(X_star, prediction[:, 1], (X, T), method=\"cubic\")\n",
    "u2 = griddata(X_star, prediction[:, 2], (X, T), method=\"cubic\")\n",
    "v2 = griddata(X_star, prediction[:, 3], (X, T), method=\"cubic\")\n",
    "\n",
    "\n",
    "h1 = np.sqrt(u1 ** 2 + v1 ** 2)\n",
    "h2=np.sqrt(u2**2+v**2)\n",
    "\n",
    "print(u.T.shape)\n",
    "print(v.T.shape)\n",
    "\n",
    "\n",
    "# 绘制预测\n",
    "fig, ax = plt.subplots(6)\n",
    "\n",
    "ax[0].set_title(\"Results1\")\n",
    "ax[0].set_ylabel(\"Real part1\")\n",
    "ax[0].imshow(\n",
    "    u.T,\n",
    "    interpolation=\"nearest\", #插值\n",
    "    cmap=\"viridis\", #色彩图\n",
    "    extent=[t_lower, t_upper, x_lower, x_upper], #极值\n",
    "    origin=\"lower\",\n",
    "    aspect=\"auto\",\n",
    ")\n",
    "ax[1].set_ylabel(\"Imaginary part1\")\n",
    "ax[1].imshow(\n",
    "    v.T,\n",
    "    interpolation=\"nearest\",\n",
    "    cmap=\"viridis\",\n",
    "    extent=[t_lower, t_upper, x_lower, x_upper],\n",
    "    origin=\"lower\",\n",
    "    aspect=\"auto\",\n",
    ")\n",
    "ax[2].set_ylabel(\"Amplitude1\")\n",
    "ax[2].imshow(\n",
    "    h.T,\n",
    "    interpolation=\"nearest\",\n",
    "    cmap=\"viridis\",\n",
    "    extent=[t_lower, t_upper, x_lower, x_upper],\n",
    "    origin=\"lower\",\n",
    "    aspect=\"auto\",\n",
    ")\n",
    "ax[3].set_title(\"Results2\")\n",
    "ax[3].set_ylabel(\"Real part2\")\n",
    "ax[3].imshow(\n",
    "    u.T,\n",
    "    interpolation=\"nearest\", #插值\n",
    "    cmap=\"viridis\", #色彩图\n",
    "    extent=[t_lower, t_upper, x_lower, x_upper], #极值\n",
    "    origin=\"lower\",\n",
    "    aspect=\"auto\",\n",
    ")\n",
    "ax[4].set_ylabel(\"Imaginary part2\")\n",
    "ax[4].imshow(\n",
    "    v.T,\n",
    "    interpolation=\"nearest\",\n",
    "    cmap=\"viridis\",\n",
    "    extent=[t_lower, t_upper, x_lower, x_upper],\n",
    "    origin=\"lower\",\n",
    "    aspect=\"auto\",\n",
    ")\n",
    "ax[5].set_ylabel(\"Amplitude1\")\n",
    "ax[5].imshow(\n",
    "    h.T,\n",
    "    interpolation=\"nearest\",\n",
    "    cmap=\"viridis\",\n",
    "    extent=[t_lower, t_upper, x_lower, x_upper],\n",
    "    origin=\"lower\",\n",
    "    aspect=\"auto\",\n",
    ")\n",
    "plt.show()\n"
   ]
  },
  {
   "cell_type": "code",
   "execution_count": 92,
   "id": "3f327367",
   "metadata": {},
   "outputs": [
    {
     "name": "stdout",
     "output_type": "stream",
     "text": [
      "(402, 512)\n",
      "(402, 512)\n",
      "(205824, 2)\n",
      "(205824, 4)\n"
     ]
    },
    {
     "data": {
      "image/png": "[encoded data removed]",
      "text/plain": [
       "<Figure size 432x288 with 1 Axes>"
      ]
     },
     "metadata": {
      "needs_background": "light"
     },
     "output_type": "display_data"
    }
   ],
   "source": [
    "ax = plt.axes(projection='3d')\n",
    "\n",
    "b=prediction[:,0]**2+prediction[:,1]**2\n",
    "c=min(b)\n",
    "d=b/c\n",
    "d=d.astype(int)\n",
    "# Data for a three-dimensional line\n",
    "ax.scatter3D(prediction[:, 0],prediction[:, 1],X_star[:,1],c=d)\n",
    "print(X.shape)\n",
    "print(T.shape)\n",
    "print(X_star.shape)\n",
    "print(prediction.shape)"
   ]
  },
  {
   "cell_type": "code",
   "execution_count": null,
   "id": "faa4334b",
   "metadata": {},
   "outputs": [],
   "source": []
  }
 ],
 "metadata": {
  "kernelspec": {
   "display_name": "Python 3 (ipykernel)",
   "language": "python",
   "name": "python3"
  },
  "language_info": {
   "codemirror_mode": {
    "name": "ipython",
    "version": 3
   },
   "file_extension": ".py",
   "mimetype": "text/x-python",
   "name": "python",
   "nbconvert_exporter": "python",
   "pygments_lexer": "ipython3",
   "version": "3.9.12"
  }
 },
 "nbformat": 4,
 "nbformat_minor": 5
}
