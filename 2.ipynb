{
 "cells": [
  {
   "cell_type": "markdown",
   "id": "71e959fa",
   "metadata": {},
   "source": [
    "# 代码来源：https://blog.csdn.net/qq_42818403/article/details/122907583"
   ]
  },
  {
   "cell_type": "code",
   "execution_count": 35,
   "id": "dffd5add",
   "metadata": {},
   "outputs": [
    {
     "name": "stdout",
     "output_type": "stream",
     "text": [
      "D:\\anaconda\\python.exe\n",
      "D:\\anaconda\\python.exe\n"
     ]
    }
   ],
   "source": [
    "import numpy as np\n",
    "import sys\n",
    "print(sys.executable)\n",
    "from mpl_toolkits import mplot3d\n",
    "\n",
    "\n",
    "import deepxde as dde\n",
    "\n",
    "# 用于绘图\n",
    "import matplotlib.pyplot as plt\n",
    "from scipy.interpolate import griddata\n",
    "\n",
    "print(sys.executable)"
   ]
  },
  {
   "cell_type": "code",
   "execution_count": null,
   "id": "903da615",
   "metadata": {},
   "outputs": [],
   "source": []
  },
  {
   "cell_type": "code",
   "execution_count": 36,
   "id": "b84920bb",
   "metadata": {},
   "outputs": [],
   "source": [
    "#周期性边界条件\n",
    "x_lower = -5\n",
    "x_upper = 5\n",
    "t_lower = 0\n",
    "t_upper = np.pi/2\n",
    "\n",
    "# 创建 2D 域（用于绘图和输入）\n",
    "x = np.linspace(x_lower, x_upper, 512)\n",
    "t = np.linspace(t_lower, t_upper, 402)\n",
    "X, T = np.meshgrid(x, t)\n",
    "\n",
    "# 整个域变平\n",
    "X_star = np.hstack((X.flatten()[:, None], T.flatten()[:, None]))\n",
    "\n",
    "# 空间和时间域/几何（对于 deepxde 模型）\n",
    "space_domain = dde.geometry.Interval(x_lower, x_upper)\n",
    "time_domain = dde.geometry.TimeDomain(t_lower, t_upper)\n",
    "geomtime = dde.geometry.GeometryXTime(space_domain, time_domain)\n"
   ]
  },
  {
   "cell_type": "code",
   "execution_count": 37,
   "id": "38d45ddd",
   "metadata": {},
   "outputs": [],
   "source": [
    "# 损失的“物理信息”部分\n",
    "\n",
    "\n",
    "def pde(x,y):\n",
    "    \"\"\"\n",
    "    INPUTS:\n",
    "        x: x[:,0] 是 x 坐标\n",
    "           x[:,1] 是 t 坐标\n",
    "        y: 网络输出，在这种情况下:\n",
    "            y[:,0] 是 u(x,t) 实部\n",
    "            y[:,1] 是 v(x,t) 虚部\n",
    "    OUTPUT:\n",
    "        标准形式的 pde，即必须为零的东西\n",
    "    \"\"\"\n",
    "    \n",
    "    \n",
    "    u1 = y[:, 0:1]\n",
    "    v1 = y[:, 1:2]\n",
    "    u2 = y[:, 2:3]\n",
    "    v2 = y[:, 3:4]\n",
    "    \n",
    "\n",
    "    # 在'jacobian'中，i 是输出分量，j 是输入分量\n",
    "    u1_t = dde.grad.jacobian(y, x, i=0, j=1)\n",
    "    v1_t = dde.grad.jacobian(y, x, i=1, j=1)\n",
    "    u2_t = dde.grad.jacobian(y, x, i=2, j=1)\n",
    "    v2_t = dde.grad.jacobian(y, x, i=3, j=1)\n",
    "\n",
    "    u1_x = dde.grad.jacobian(y, x, i=0, j=0)\n",
    "    v1_x = dde.grad.jacobian(y, x, i=1, j=0)\n",
    "    u2_x = dde.grad.jacobian(y, x, i=2, j=0)\n",
    "    v2_x = dde.grad.jacobian(y, x, i=3, j=0)\n",
    "\n",
    "    # 在“hessian”中，i 和 j 都是输入分量。 （Hessian 原则上可以是 d^2y/dxdt、d^2y/d^2x 等）\n",
    "    # 输出组件由“组件”选择\n",
    "    u1_xx = dde.grad.hessian(y, x, component=0, i=0, j=0)\n",
    "    v1_xx = dde.grad.hessian(y, x, component=1, i=0, j=0)\n",
    "    u2_xx = dde.grad.hessian(y, x, component=2, i=0, j=0)\n",
    "    v2_xx = dde.grad.hessian(y, x, component=3, i=0, j=0)\n",
    "\n",
    "    #f_u = u_t + 0.5 * v_xx + (u ** 2 + v ** 2) * v\n",
    "    #f_v = v_t - 0.5 * u_xx - (u ** 2 + v ** 2) * u\n",
    "    \n",
    "    f_u1 = u1_t + v1_xx + 2*(v1 ** 2 + u1 ** 2 + 2*(v2 ** 2 + u2 ** 2)) * v1 - 2*v1*(v2 ** 2 - u2 ** 2) - 4*v2*u1*u2\n",
    "    f_v1 = v1_t - u1_xx - 2*(v1 ** 2 + u1 ** 2 + 2*(v2 ** 2 + u2 ** 2)) * u1 - 2*u1*(v2 ** 2 - u2 ** 2) + 4*v1*v2*u2\n",
    "    \n",
    "    f_u2 = u2_t + v2_xx + 2*(v2 ** 2 + u2 ** 2 + 2*(v1 ** 2 + u1 ** 2)) * v2 - 2*v2*(v1 ** 2 - u1 ** 2) - 4*v1*u2*u1\n",
    "    f_v2 = v2_t - u2_xx - 2*(v2 ** 2 + u2 ** 2 + 2*(v1 ** 2 + u1 ** 2)) * u2 - 2*u2*(v1 ** 2 - u1 ** 2) + 4*v2*v1*u1\n",
    "\n",
    "    return [f_u1, f_v1,f_u2,f_v2]\n"
   ]
  },
  {
   "cell_type": "code",
   "execution_count": null,
   "id": "70281ee3",
   "metadata": {},
   "outputs": [],
   "source": []
  },
  {
   "cell_type": "code",
   "execution_count": 38,
   "id": "63180574",
   "metadata": {},
   "outputs": [],
   "source": [
    "# 边界条件和初始条件\n",
    "\n",
    "# 周期性边界条件\n",
    "bc_u1_0 = dde.PeriodicBC(\n",
    "    geomtime, 0, lambda _, on_boundary: on_boundary, derivative_order=0, component=0\n",
    ")\n",
    "bc_u1_1 = dde.PeriodicBC(\n",
    "    geomtime, 0, lambda _, on_boundary: on_boundary, derivative_order=1, component=0\n",
    ")\n",
    "bc_v1_0 = dde.PeriodicBC(\n",
    "    geomtime, 0, lambda _, on_boundary: on_boundary, derivative_order=0, component=1\n",
    ")\n",
    "bc_v1_1 = dde.PeriodicBC(\n",
    "    geomtime, 0, lambda _, on_boundary: on_boundary, derivative_order=1, component=1\n",
    ")\n",
    "bc_u2_0 = dde.PeriodicBC(\n",
    "    geomtime, 0, lambda _, on_boundary: on_boundary, derivative_order=0, component=2\n",
    ")\n",
    "bc_u2_1 = dde.PeriodicBC(\n",
    "    geomtime, 0, lambda _, on_boundary: on_boundary, derivative_order=1, component=2\n",
    ")\n",
    "bc_v2_0 = dde.PeriodicBC(\n",
    "    geomtime, 0, lambda _, on_boundary: on_boundary, derivative_order=0, component=3\n",
    ")\n",
    "bc_v2_1 = dde.PeriodicBC(\n",
    "    geomtime, 0, lambda _, on_boundary: on_boundary, derivative_order=1, component=3\n",
    ")\n",
    "\n",
    "# 初始条件\n",
    "def init_cond_u1(x):\n",
    "    \"2 sech(x)\"\n",
    "    return 2 / np.cosh(x[:, 0:1])\n",
    "def init_cond_u2(x):\n",
    "    \"2 tanh(x)\"\n",
    "    return 2* np.sinh(x[:, 0:1]) /np.cosh(x[:, 0:1])\n",
    "\n",
    "def init_cond_v(x):\n",
    "    return 0\n",
    "\n",
    "\n",
    "ic_u1 = dde.IC(geomtime, init_cond_u1, lambda _, on_initial: on_initial, component=0)\n",
    "ic_v1 = dde.IC(geomtime, init_cond_v, lambda _, on_initial: on_initial, component=1)\n",
    "ic_u2 = dde.IC(geomtime, init_cond_u2, lambda _, on_initial: on_initial, component=2)\n",
    "ic_v2 = dde.IC(geomtime, init_cond_v, lambda _, on_initial: on_initial, component=3)\n"
   ]
  },
  {
   "cell_type": "code",
   "execution_count": 39,
   "id": "c5696daa",
   "metadata": {},
   "outputs": [],
   "source": [
    "data = dde.data.TimePDE(\n",
    "    geomtime,\n",
    "    pde,\n",
    "    [bc_u1_0, bc_u1_1, bc_v1_0, bc_v1_1,bc_u2_0, bc_u2_1, bc_v2_0, bc_v2_1, ic_u1, ic_v1,ic_u2, ic_v2],\n",
    "    num_domain=10000,\n",
    "    num_boundary=20,\n",
    "    num_initial=200,\n",
    "    train_distribution=\"pseudo\",\n",
    ")\n",
    "\n",
    "allow_unused=True\n",
    "# 网络架构\n",
    "net = dde.maps.FNN([2] + [100] * 4 + [4], \"tanh\", \"Glorot normal\")\n",
    "\n",
    "model = dde.Model(data, net)\n"
   ]
  },
  {
   "cell_type": "markdown",
   "id": "a69adb3f",
   "metadata": {},
   "source": [
    "Adam 优化"
   ]
  },
  {
   "cell_type": "code",
   "execution_count": 40,
   "id": "ac036c78",
   "metadata": {
    "scrolled": false
   },
   "outputs": [
    {
     "name": "stdout",
     "output_type": "stream",
     "text": [
      "Compiling model...\n",
      "Building feed-forward neural network...\n",
      "'build' took 0.064105 s\n",
      "\n",
      "'compile' took 2.904565 s\n",
      "\n",
      "Warning: epochs is deprecated and will be removed in a future version. Use iterations instead.\n",
      "Initializing variables...\n",
      "Training model...\n",
      "\n",
      "0         [6.52e-01, 5.29e-02, 3.14e-02, 6.39e-01, 2.41e-03, 4.46e-04, 1.52e+00, 3.28e-03, 6.84e-01, 1.09e-04, 9.90e-02, 1.76e-04, 9.32e-01, 1.80e-01, 4.49e+00, 1.49e-02]    [6.52e-01, 5.29e-02, 3.14e-02, 6.39e-01, 2.41e-03, 4.46e-04, 1.52e+00, 3.28e-03, 6.84e-01, 1.09e-04, 9.90e-02, 1.76e-04, 9.32e-01, 1.80e-01, 4.49e+00, 1.49e-02]    []  \n",
      "1000      [3.79e-02, 6.36e-02, 1.21e-01, 8.49e-02, 4.60e-04, 5.47e-04, 7.48e-04, 1.52e-04, 3.47e-02, 2.18e-04, 1.08e-02, 6.62e-04, 5.18e-02, 4.20e-03, 5.28e-01, 4.55e-03]    [3.79e-02, 6.36e-02, 1.21e-01, 8.49e-02, 4.60e-04, 5.47e-04, 7.48e-04, 1.52e-04, 3.47e-02, 2.18e-04, 1.08e-02, 6.62e-04, 5.18e-02, 4.20e-03, 5.28e-01, 4.55e-03]    []  \n",
      "2000      [4.83e-02, 4.82e-02, 1.38e-01, 7.10e-02, 4.69e-04, 4.75e-04, 8.92e-05, 1.02e-04, 6.99e-03, 1.16e-04, 7.40e-03, 1.32e-04, 4.69e-02, 8.26e-03, 3.92e-01, 5.60e-03]    [4.83e-02, 4.82e-02, 1.38e-01, 7.10e-02, 4.69e-04, 4.75e-04, 8.92e-05, 1.02e-04, 6.99e-03, 1.16e-04, 7.40e-03, 1.32e-04, 4.69e-02, 8.26e-03, 3.92e-01, 5.60e-03]    []  \n",
      "3000      [3.37e-02, 4.92e-02, 9.68e-02, 7.99e-02, 5.71e-05, 3.56e-04, 7.08e-05, 1.33e-04, 1.20e-02, 2.65e-04, 7.60e-03, 7.65e-05, 3.85e-02, 8.06e-03, 3.00e-01, 6.03e-03]    [3.37e-02, 4.92e-02, 9.68e-02, 7.99e-02, 5.71e-05, 3.56e-04, 7.08e-05, 1.33e-04, 1.20e-02, 2.65e-04, 7.60e-03, 7.65e-05, 3.85e-02, 8.06e-03, 3.00e-01, 6.03e-03]    []  \n",
      "4000      [4.55e-02, 3.94e-02, 9.80e-02, 7.45e-02, 7.40e-05, 3.42e-04, 6.97e-05, 2.49e-04, 1.01e-02, 2.92e-04, 5.15e-03, 5.14e-05, 3.74e-02, 8.63e-03, 2.74e-01, 5.94e-03]    [4.55e-02, 3.94e-02, 9.80e-02, 7.45e-02, 7.40e-05, 3.42e-04, 6.97e-05, 2.49e-04, 1.01e-02, 2.92e-04, 5.15e-03, 5.14e-05, 3.74e-02, 8.63e-03, 2.74e-01, 5.94e-03]    []  \n",
      "5000      [3.05e-02, 4.24e-02, 9.18e-02, 6.70e-02, 9.82e-05, 2.87e-04, 6.04e-05, 3.54e-04, 8.85e-03, 1.62e-04, 5.46e-03, 6.54e-05, 3.28e-02, 9.52e-03, 2.54e-01, 6.41e-03]    [3.05e-02, 4.24e-02, 9.18e-02, 6.70e-02, 9.82e-05, 2.87e-04, 6.04e-05, 3.54e-04, 8.85e-03, 1.62e-04, 5.46e-03, 6.54e-05, 3.28e-02, 9.52e-03, 2.54e-01, 6.41e-03]    []  \n",
      "6000      [2.71e-02, 4.12e-02, 9.66e-02, 7.08e-02, 1.45e-04, 1.28e-04, 6.35e-05, 4.05e-04, 8.83e-03, 1.08e-04, 6.65e-03, 1.01e-04, 3.12e-02, 9.75e-03, 2.41e-01, 7.09e-03]    [2.71e-02, 4.12e-02, 9.66e-02, 7.08e-02, 1.45e-04, 1.28e-04, 6.35e-05, 4.05e-04, 8.83e-03, 1.08e-04, 6.65e-03, 1.01e-04, 3.12e-02, 9.75e-03, 2.41e-01, 7.09e-03]    []  \n",
      "7000      [2.39e-02, 3.33e-02, 7.99e-02, 6.42e-02, 7.28e-05, 1.58e-04, 1.16e-04, 5.05e-04, 5.51e-03, 1.48e-04, 4.45e-03, 8.26e-05, 3.08e-02, 9.86e-03, 2.33e-01, 6.99e-03]    [2.39e-02, 3.33e-02, 7.99e-02, 6.42e-02, 7.28e-05, 1.58e-04, 1.16e-04, 5.05e-04, 5.51e-03, 1.48e-04, 4.45e-03, 8.26e-05, 3.08e-02, 9.86e-03, 2.33e-01, 6.99e-03]    []  \n",
      "8000      [2.10e-02, 3.77e-02, 7.72e-02, 6.40e-02, 2.40e-04, 1.94e-04, 1.37e-04, 4.90e-04, 7.12e-03, 1.34e-04, 4.39e-03, 7.96e-05, 2.84e-02, 9.57e-03, 2.17e-01, 7.30e-03]    [2.10e-02, 3.77e-02, 7.72e-02, 6.40e-02, 2.40e-04, 1.94e-04, 1.37e-04, 4.90e-04, 7.12e-03, 1.34e-04, 4.39e-03, 7.96e-05, 2.84e-02, 9.57e-03, 2.17e-01, 7.30e-03]    []  \n",
      "9000      [2.47e-02, 3.17e-02, 7.23e-02, 7.44e-02, 1.93e-04, 2.91e-04, 9.90e-05, 4.14e-04, 1.09e-02, 2.34e-04, 4.22e-03, 9.40e-05, 2.84e-02, 9.15e-03, 1.97e-01, 7.03e-03]    [2.47e-02, 3.17e-02, 7.23e-02, 7.44e-02, 1.93e-04, 2.91e-04, 9.90e-05, 4.14e-04, 1.09e-02, 2.34e-04, 4.22e-03, 9.40e-05, 2.84e-02, 9.15e-03, 1.97e-01, 7.03e-03]    []  \n",
      "10000     [2.02e-02, 3.06e-02, 7.23e-02, 5.66e-02, 1.06e-04, 6.27e-04, 8.11e-05, 3.04e-04, 3.75e-03, 9.18e-05, 3.62e-03, 1.05e-04, 2.67e-02, 9.13e-03, 1.97e-01, 7.02e-03]    [2.02e-02, 3.06e-02, 7.23e-02, 5.66e-02, 1.06e-04, 6.27e-04, 8.11e-05, 3.04e-04, 3.75e-03, 9.18e-05, 3.62e-03, 1.05e-04, 2.67e-02, 9.13e-03, 1.97e-01, 7.02e-03]    []  \n",
      "\n",
      "Best model at step 10000:\n",
      "  train loss: 4.28e-01\n",
      "  test loss: 4.28e-01\n",
      "  test metric: []\n",
      "\n",
      "'train' took 302.005905 s\n",
      "\n"
     ]
    },
    {
     "data": {
      "text/plain": [
       "(<deepxde.model.LossHistory at 0x28b8bf40f40>,\n",
       " <deepxde.model.TrainState at 0x28b8bf406d0>)"
      ]
     },
     "execution_count": 40,
     "metadata": {},
     "output_type": "execute_result"
    }
   ],
   "source": [
    "\n",
    "# 强烈建议使用 GPU 加速系统.\n",
    "\n",
    "model.compile(\"adam\", lr=1e-3, loss=\"MSE\")\n",
    "model.train(epochs=10000, display_every=1000)\n"
   ]
  },
  {
   "cell_type": "markdown",
   "id": "a1ac17f6",
   "metadata": {},
   "source": [
    "L-BFGS 优化"
   ]
  },
  {
   "cell_type": "code",
   "execution_count": null,
   "id": "7529e984",
   "metadata": {
    "scrolled": true
   },
   "outputs": [
    {
     "name": "stdout",
     "output_type": "stream",
     "text": [
      "Compiling model...\n",
      "'compile' took 2.261976 s\n",
      "\n",
      "Training model...\n",
      "\n",
      "Step      Train loss                                                                                                                                                          Test loss                                                                                                                                                           Test metric\n",
      "10000     [2.02e-02, 3.06e-02, 7.23e-02, 5.66e-02, 1.06e-04, 6.27e-04, 8.11e-05, 3.04e-04, 3.75e-03, 9.18e-05, 3.62e-03, 1.05e-04, 2.67e-02, 9.13e-03, 1.97e-01, 7.02e-03]    [2.02e-02, 3.06e-02, 7.23e-02, 5.66e-02, 1.06e-04, 6.27e-04, 8.11e-05, 3.04e-04, 3.75e-03, 9.18e-05, 3.62e-03, 1.05e-04, 2.67e-02, 9.13e-03, 1.97e-01, 7.02e-03]    []  \n"
     ]
    }
   ],
   "source": [
    "dde.optimizers.config.set_LBFGS_options(\n",
    "    maxcor=50,\n",
    "    ftol=1.0 * np.finfo(float).eps,\n",
    "    gtol=1e-08,\n",
    "    maxiter=10000,\n",
    "    maxfun=10000,\n",
    "    maxls=50,\n",
    ")\n",
    "model.compile(\"L-BFGS\")\n",
    "#model.train()\n",
    "\n",
    "losshistory, train_state = model.train()\n",
    "dde.saveplot(losshistory, train_state, issave=True, isplot=True)"
   ]
  },
  {
   "cell_type": "code",
   "execution_count": null,
   "id": "72d2ecbe",
   "metadata": {
    "scrolled": false
   },
   "outputs": [],
   "source": [
    "# 做预测\n",
    "prediction = model.predict(X_star, operator=None)\n",
    "\n",
    "u1 = griddata(X_star, prediction[:, 0], (X, T), method=\"cubic\")\n",
    "v1 = griddata(X_star, prediction[:, 1], (X, T), method=\"cubic\")\n",
    "u2 = griddata(X_star, prediction[:, 2], (X, T), method=\"cubic\")\n",
    "v2 = griddata(X_star, prediction[:, 3], (X, T), method=\"cubic\")\n",
    "\n",
    "\n",
    "h1 = np.sqrt(u1 ** 2 + v1 ** 2)\n",
    "h2=np.sqrt(u2**2+v2**2)\n",
    "\n",
    "\n",
    "\n",
    "# 绘制预测\n",
    "fig, ax = plt.subplots(6)\n",
    "\n",
    "ax[0].set_title(\"Results1\")\n",
    "ax[0].set_ylabel(\"Real part1\")\n",
    "ax[0].imshow(\n",
    "    u1.T,\n",
    "    interpolation=\"nearest\", #插值\n",
    "    cmap=\"viridis\", #色彩图\n",
    "    extent=[t_lower, t_upper, x_lower, x_upper], #极值\n",
    "    origin=\"lower\",\n",
    "    aspect=\"auto\",\n",
    ")\n",
    "ax[1].set_ylabel(\"Imaginary part1\")\n",
    "ax[1].imshow(\n",
    "    v1.T,\n",
    "    interpolation=\"nearest\",\n",
    "    cmap=\"viridis\",\n",
    "    extent=[t_lower, t_upper, x_lower, x_upper],\n",
    "    origin=\"lower\",\n",
    "    aspect=\"auto\",\n",
    ")\n",
    "ax[2].set_ylabel(\"Amplitude1\")\n",
    "ax[2].imshow(\n",
    "    h1.T,\n",
    "    interpolation=\"nearest\",\n",
    "    cmap=\"viridis\",\n",
    "    extent=[t_lower, t_upper, x_lower, x_upper],\n",
    "    origin=\"lower\",\n",
    "    aspect=\"auto\",\n",
    ")\n",
    "ax[3].set_title(\"Results2\")\n",
    "ax[3].set_ylabel(\"Real part2\")\n",
    "ax[3].imshow(\n",
    "    u2.T,\n",
    "    interpolation=\"nearest\", #插值\n",
    "    cmap=\"viridis\", #色彩图\n",
    "    extent=[t_lower, t_upper, x_lower, x_upper], #极值\n",
    "    origin=\"lower\",\n",
    "    aspect=\"auto\",\n",
    ")\n",
    "ax[4].set_ylabel(\"Imaginary part2\")\n",
    "ax[4].imshow(\n",
    "    v2.T,\n",
    "    interpolation=\"nearest\",\n",
    "    cmap=\"viridis\",\n",
    "    extent=[t_lower, t_upper, x_lower, x_upper],\n",
    "    origin=\"lower\",\n",
    "    aspect=\"auto\",\n",
    ")\n",
    "ax[5].set_ylabel(\"Amplitude1\")\n",
    "ax[5].imshow(\n",
    "    h2.T,\n",
    "    interpolation=\"nearest\",\n",
    "    cmap=\"viridis\",\n",
    "    extent=[t_lower, t_upper, x_lower, x_upper],\n",
    "    origin=\"lower\",\n",
    "    aspect=\"auto\",\n",
    ")\n",
    "plt.show()\n"
   ]
  },
  {
   "cell_type": "code",
   "execution_count": null,
   "id": "3f327367",
   "metadata": {
    "scrolled": true
   },
   "outputs": [],
   "source": [
    "ax = plt.axes(projection='3d')\n",
    "\n",
    "\n",
    "b=prediction[:,0]**2+prediction[:,1]**2\n",
    "c=min(b)\n",
    "d=b/c\n",
    "d=d.astype(int)\n",
    "print(d)\n",
    "# Data for a three-dimensional line\n",
    "ax.scatter3D(prediction[:, 0],prediction[:, 1],X_star[:,1],c=d[:]*2)\n",
    "\n"
   ]
  },
  {
   "cell_type": "code",
   "execution_count": null,
   "id": "faa4334b",
   "metadata": {},
   "outputs": [],
   "source": [
    "bx = plt.axes(projection='3d')\n",
    "b=prediction[:,2]**2+prediction[:,3]**2\n",
    "c=min(b)\n",
    "d=b/c\n",
    "d=d.astype(int)\n",
    "print(d)\n",
    "bx.scatter3D(prediction[:, 2],prediction[:, 3],X_star[:,1],c=d[:]*2)\n",
    "\n",
    "print(X.shape)\n",
    "print(T.shape)\n",
    "print(X_star.shape)\n",
    "print(prediction.shape)"
   ]
  },
  {
   "cell_type": "code",
   "execution_count": null,
   "id": "254ed25f",
   "metadata": {},
   "outputs": [],
   "source": []
  }
 ],
 "metadata": {
  "kernelspec": {
   "display_name": "Python 3 (ipykernel)",
   "language": "python",
   "name": "python3"
  },
  "language_info": {
   "codemirror_mode": {
    "name": "ipython",
    "version": 3
   },
   "file_extension": ".py",
   "mimetype": "text/x-python",
   "name": "python",
   "nbconvert_exporter": "python",
   "pygments_lexer": "ipython3",
   "version": "3.9.12"
  }
 },
 "nbformat": 4,
 "nbformat_minor": 5
}
