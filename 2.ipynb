{
 "cells": [
  {
   "cell_type": "markdown",
   "id": "71e959fa",
   "metadata": {},
   "source": [
    "# 代码来源：https://blog.csdn.net/qq_42818403/article/details/122907583"
   ]
  },
  {
   "cell_type": "code",
   "execution_count": 39,
   "id": "dffd5add",
   "metadata": {},
   "outputs": [
    {
     "name": "stdout",
     "output_type": "stream",
     "text": [
      "D:\\anaconda\\python.exe\n",
      "D:\\anaconda\\python.exe\n"
     ]
    }
   ],
   "source": [
    "import numpy as np\n",
    "import sys\n",
    "print(sys.executable)\n",
    "from mpl_toolkits import mplot3d\n",
    "\n",
    "\n",
    "import deepxde as dde\n",
    "\n",
    "# 用于绘图\n",
    "import matplotlib.pyplot as plt\n",
    "from scipy.interpolate import griddata\n",
    "\n",
    "print(sys.executable)"
   ]
  },
  {
   "cell_type": "code",
   "execution_count": null,
   "id": "903da615",
   "metadata": {},
   "outputs": [],
   "source": []
  },
  {
   "cell_type": "code",
   "execution_count": 40,
   "id": "b84920bb",
   "metadata": {},
   "outputs": [],
   "source": [
    "#周期性边界条件\n",
    "x_lower = -5\n",
    "x_upper = 5\n",
    "t_lower = 0\n",
    "t_upper = np.pi/2\n",
    "\n",
    "# 创建 2D 域（用于绘图和输入）\n",
    "x = np.linspace(x_lower, x_upper, 512)\n",
    "t = np.linspace(t_lower, t_upper, 402)\n",
    "X, T = np.meshgrid(x, t)\n",
    "\n",
    "# 整个域变平\n",
    "X_star = np.hstack((X.flatten()[:, None], T.flatten()[:, None]))\n",
    "\n",
    "# 空间和时间域/几何（对于 deepxde 模型）\n",
    "space_domain = dde.geometry.Interval(x_lower, x_upper)\n",
    "time_domain = dde.geometry.TimeDomain(t_lower, t_upper)\n",
    "geomtime = dde.geometry.GeometryXTime(space_domain, time_domain)\n"
   ]
  },
  {
   "cell_type": "code",
   "execution_count": 41,
   "id": "38d45ddd",
   "metadata": {},
   "outputs": [],
   "source": [
    "# 损失的“物理信息”部分\n",
    "\n",
    "\n",
    "def pde(x,y):\n",
    "    \"\"\"\n",
    "    INPUTS:\n",
    "        x: x[:,0] 是 x 坐标\n",
    "           x[:,1] 是 t 坐标\n",
    "        y: 网络输出，在这种情况下:\n",
    "            y[:,0] 是 u(x,t) 实部\n",
    "            y[:,1] 是 v(x,t) 虚部\n",
    "    OUTPUT:\n",
    "        标准形式的 pde，即必须为零的东西\n",
    "    \"\"\"\n",
    "    \n",
    "    \n",
    "    u1 = y[:, 0:1]\n",
    "    v1 = y[:, 1:2]\n",
    "    u2 = y[:, 2:3]\n",
    "    v2 = y[:, 3:4]\n",
    "    \n",
    "\n",
    "    # 在'jacobian'中，i 是输出分量，j 是输入分量\n",
    "    u1_t = dde.grad.jacobian(y, x, i=0, j=1)\n",
    "    v1_t = dde.grad.jacobian(y, x, i=1, j=1)\n",
    "    u2_t = dde.grad.jacobian(y, x, i=2, j=1)\n",
    "    v2_t = dde.grad.jacobian(y, x, i=3, j=1)\n",
    "\n",
    "    u1_x = dde.grad.jacobian(y, x, i=0, j=0)\n",
    "    v1_x = dde.grad.jacobian(y, x, i=1, j=0)\n",
    "    u2_x = dde.grad.jacobian(y, x, i=2, j=0)\n",
    "    v2_x = dde.grad.jacobian(y, x, i=3, j=0)\n",
    "\n",
    "    # 在“hessian”中，i 和 j 都是输入分量。 （Hessian 原则上可以是 d^2y/dxdt、d^2y/d^2x 等）\n",
    "    # 输出组件由“组件”选择\n",
    "    u1_xx = dde.grad.hessian(y, x, component=0, i=0, j=0)\n",
    "    v1_xx = dde.grad.hessian(y, x, component=1, i=0, j=0)\n",
    "    u2_xx = dde.grad.hessian(y, x, component=2, i=0, j=0)\n",
    "    v2_xx = dde.grad.hessian(y, x, component=3, i=0, j=0)\n",
    "\n",
    "    #f_u = u_t + 0.5 * v_xx + (u ** 2 + v ** 2) * v\n",
    "    #f_v = v_t - 0.5 * u_xx - (u ** 2 + v ** 2) * u\n",
    "    \n",
    "    f_u1 = u1_t + v1_xx + 2*(v1 ** 2 + u1 ** 2 + 2*(v2 ** 2 + u2 ** 2)) * v1 - 2*v1*(v2 ** 2 - u2 ** 2) - 4*v2*u1*u2\n",
    "    f_v1 = v1_t - u1_xx - 2*(v1 ** 2 + u1 ** 2 + 2*(v2 ** 2 + u2 ** 2)) * u1 - 2*u1*(v2 ** 2 - u2 ** 2) + 4*v1*v2*u2\n",
    "    \n",
    "    f_u2 = u2_t + v2_xx + 2*(v2 ** 2 + u2 ** 2 + 2*(v1 ** 2 + u1 ** 2)) * v2 - 2*v2*(v1 ** 2 - u1 ** 2) - 4*v1*u2*u1\n",
    "    f_v2 = v2_t - u2_xx - 2*(v2 ** 2 + u2 ** 2 + 2*(v1 ** 2 + u1 ** 2)) * u2 - 2*u2*(v1 ** 2 - u1 ** 2) + 4*v2*v1*u1\n",
    "\n",
    "    return [f_u1, f_v1,f_u2,f_v2]\n"
   ]
  },
  {
   "cell_type": "code",
   "execution_count": null,
   "id": "70281ee3",
   "metadata": {},
   "outputs": [],
   "source": []
  },
  {
   "cell_type": "code",
   "execution_count": 42,
   "id": "63180574",
   "metadata": {},
   "outputs": [],
   "source": [
    "# 边界条件和初始条件\n",
    "\n",
    "# 周期性边界条件\n",
    "bc_u1_0 = dde.PeriodicBC(\n",
    "    geomtime, 0, lambda _, on_boundary: on_boundary, derivative_order=0, component=0\n",
    ")\n",
    "bc_u1_1 = dde.PeriodicBC(\n",
    "    geomtime, 0, lambda _, on_boundary: on_boundary, derivative_order=1, component=0\n",
    ")\n",
    "bc_v1_0 = dde.PeriodicBC(\n",
    "    geomtime, 0, lambda _, on_boundary: on_boundary, derivative_order=0, component=1\n",
    ")\n",
    "bc_v1_1 = dde.PeriodicBC(\n",
    "    geomtime, 0, lambda _, on_boundary: on_boundary, derivative_order=1, component=1\n",
    ")\n",
    "bc_u2_0 = dde.PeriodicBC(\n",
    "    geomtime, 0, lambda _, on_boundary: on_boundary, derivative_order=0, component=2\n",
    ")\n",
    "bc_u2_1 = dde.PeriodicBC(\n",
    "    geomtime, 0, lambda _, on_boundary: on_boundary, derivative_order=1, component=2\n",
    ")\n",
    "bc_v2_0 = dde.PeriodicBC(\n",
    "    geomtime, 0, lambda _, on_boundary: on_boundary, derivative_order=0, component=3\n",
    ")\n",
    "bc_v2_1 = dde.PeriodicBC(\n",
    "    geomtime, 0, lambda _, on_boundary: on_boundary, derivative_order=1, component=3\n",
    ")\n",
    "\n",
    "# 初始条件\n",
    "def init_cond_u1(x):\n",
    "    \"2 sech(x)\"\n",
    "    return 2 / np.cosh(x[:, 0:1])\n",
    "def init_cond_u2(x):\n",
    "    \"2 csch(x)\"\n",
    "    return 2 / np.sinh(x[:, 0:1])\n",
    "\n",
    "def init_cond_v(x):\n",
    "    return 0\n",
    "\n",
    "\n",
    "ic_u1 = dde.IC(geomtime, init_cond_u1, lambda _, on_initial: on_initial, component=0)\n",
    "ic_v1 = dde.IC(geomtime, init_cond_v, lambda _, on_initial: on_initial, component=1)\n",
    "ic_u2 = dde.IC(geomtime, init_cond_u2, lambda _, on_initial: on_initial, component=2)\n",
    "ic_v2 = dde.IC(geomtime, init_cond_v, lambda _, on_initial: on_initial, component=3)\n"
   ]
  },
  {
   "cell_type": "code",
   "execution_count": 43,
   "id": "c5696daa",
   "metadata": {},
   "outputs": [],
   "source": [
    "data = dde.data.TimePDE(\n",
    "    geomtime,\n",
    "    pde,\n",
    "    [bc_u1_0, bc_u1_1, bc_v1_0, bc_v1_1,bc_u2_0, bc_u2_1, bc_v2_0, bc_v2_1, ic_u1, ic_v1,ic_u2, ic_v2],\n",
    "    num_domain=10000,\n",
    "    num_boundary=20,\n",
    "    num_initial=200,\n",
    "    train_distribution=\"pseudo\",\n",
    ")\n",
    "\n",
    "allow_unused=True\n",
    "# 网络架构\n",
    "net = dde.maps.FNN([2] + [100] * 4 + [4], \"tanh\", \"Glorot normal\")\n",
    "\n",
    "model = dde.Model(data, net)\n"
   ]
  },
  {
   "cell_type": "markdown",
   "id": "a69adb3f",
   "metadata": {},
   "source": [
    "Adam 优化"
   ]
  },
  {
   "cell_type": "code",
   "execution_count": 44,
   "id": "ac036c78",
   "metadata": {
    "scrolled": true
   },
   "outputs": [
    {
     "name": "stdout",
     "output_type": "stream",
     "text": [
      "Compiling model...\n",
      "Building feed-forward neural network...\n",
      "'build' took 0.061056 s\n",
      "\n",
      "'compile' took 2.517038 s\n",
      "\n",
      "Warning: epochs is deprecated and will be removed in a future version. Use iterations instead.\n",
      "Initializing variables...\n",
      "Training model...\n",
      "\n",
      "Step      Train loss                                                                                                                                                          Test loss                                                                                                                                                           Test metric\n",
      "0         [4.98e+01, 5.78e+00, 9.88e+00, 1.54e+02, 2.41e-01, 1.49e-04, 6.95e-01, 6.26e-04, 1.64e+01, 4.67e-03, 5.74e-01, 7.88e-04, 7.58e-01, 1.23e-01, 2.34e+04, 1.26e-01]    [4.98e+01, 5.78e+00, 9.88e+00, 1.54e+02, 2.41e-01, 1.49e-04, 6.95e-01, 6.26e-04, 1.64e+01, 4.67e-03, 5.74e-01, 7.88e-04, 7.58e-01, 1.23e-01, 2.34e+04, 1.26e-01]    []  \n",
      "100       [9.34e-03, 2.63e-02, 5.52e-01, 7.07e+00, 1.01e-03, 5.93e-07, 1.37e-04, 8.28e-05, 2.35e-04, 4.05e-03, 3.08e-02, 9.76e-03, 6.48e-01, 6.06e-04, 2.33e+04, 8.82e-03]    [9.34e-03, 2.63e-02, 5.52e-01, 7.07e+00, 1.01e-03, 5.93e-07, 1.37e-04, 8.28e-05, 2.35e-04, 4.05e-03, 3.08e-02, 9.76e-03, 6.48e-01, 6.06e-04, 2.33e+04, 8.82e-03]    []  \n",
      "200       [1.19e-01, 1.40e-01, 4.87e-01, 8.60e+00, 1.83e-04, 2.10e-05, 5.44e-03, 1.01e-04, 4.98e-04, 6.81e-04, 1.26e-02, 2.59e-03, 7.68e-01, 1.58e-02, 2.33e+04, 1.87e-02]    [1.19e-01, 1.40e-01, 4.87e-01, 8.60e+00, 1.83e-04, 2.10e-05, 5.44e-03, 1.01e-04, 4.98e-04, 6.81e-04, 1.26e-02, 2.59e-03, 7.68e-01, 1.58e-02, 2.33e+04, 1.87e-02]    []  \n",
      "300       [2.92e-01, 2.27e-01, 1.02e+00, 1.36e+01, 1.82e-03, 3.11e-04, 1.36e-02, 6.01e-04, 1.42e-03, 1.36e-04, 9.81e-03, 1.27e-03, 6.71e-01, 3.01e-02, 2.33e+04, 7.69e-03]    [2.92e-01, 2.27e-01, 1.02e+00, 1.36e+01, 1.82e-03, 3.11e-04, 1.36e-02, 6.01e-04, 1.42e-03, 1.36e-04, 9.81e-03, 1.27e-03, 6.71e-01, 3.01e-02, 2.33e+04, 7.69e-03]    []  \n",
      "400       [2.43e-01, 3.07e-01, 3.68e+00, 1.33e+01, 1.22e-03, 4.35e-04, 5.23e-04, 5.11e-04, 8.91e-03, 3.59e-02, 7.18e-03, 5.46e-03, 6.08e-01, 4.26e-03, 2.32e+04, 1.50e-02]    [2.43e-01, 3.07e-01, 3.68e+00, 1.33e+01, 1.22e-03, 4.35e-04, 5.23e-04, 5.11e-04, 8.91e-03, 3.59e-02, 7.18e-03, 5.46e-03, 6.08e-01, 4.26e-03, 2.32e+04, 1.50e-02]    []  \n",
      "500       [4.32e-01, 3.11e-01, 4.79e+00, 6.15e+00, 9.35e-04, 7.59e-04, 5.49e-03, 2.81e-03, 6.64e-03, 1.46e-02, 2.76e-03, 5.12e-03, 5.82e-01, 8.88e-04, 2.31e+04, 7.07e-02]    [4.32e-01, 3.11e-01, 4.79e+00, 6.15e+00, 9.35e-04, 7.59e-04, 5.49e-03, 2.81e-03, 6.64e-03, 1.46e-02, 2.76e-03, 5.12e-03, 5.82e-01, 8.88e-04, 2.31e+04, 7.07e-02]    []  \n",
      "600       [8.97e-01, 4.04e-01, 8.78e+00, 1.02e+01, 3.39e-03, 5.41e-04, 6.24e-03, 6.89e-03, 7.52e-03, 1.59e-02, 3.94e-03, 5.53e-03, 5.78e-01, 1.76e-03, 2.31e+04, 6.49e-02]    [8.97e-01, 4.04e-01, 8.78e+00, 1.02e+01, 3.39e-03, 5.41e-04, 6.24e-03, 6.89e-03, 7.52e-03, 1.59e-02, 3.94e-03, 5.53e-03, 5.78e-01, 1.76e-03, 2.31e+04, 6.49e-02]    []  \n",
      "700       [4.99e-01, 2.49e-01, 5.42e+00, 6.32e+00, 9.42e-04, 1.40e-03, 2.41e-03, 3.26e-03, 4.57e-03, 1.29e-02, 4.06e-03, 4.46e-03, 6.18e-01, 3.34e-03, 2.30e+04, 3.81e-02]    [4.99e-01, 2.49e-01, 5.42e+00, 6.32e+00, 9.42e-04, 1.40e-03, 2.41e-03, 3.26e-03, 4.57e-03, 1.29e-02, 4.06e-03, 4.46e-03, 6.18e-01, 3.34e-03, 2.30e+04, 3.81e-02]    []  \n",
      "800       [7.65e-01, 5.79e-01, 7.55e+00, 1.97e+01, 2.63e-03, 7.37e-04, 7.14e-03, 5.29e-03, 4.02e-02, 4.41e-02, 5.31e-01, 2.23e-02, 6.95e-01, 7.41e-03, 2.32e+04, 4.50e-01]    [7.65e-01, 5.79e-01, 7.55e+00, 1.97e+01, 2.63e-03, 7.37e-04, 7.14e-03, 5.29e-03, 4.02e-02, 4.41e-02, 5.31e-01, 2.23e-02, 6.95e-01, 7.41e-03, 2.32e+04, 4.50e-01]    []  \n",
      "900       [3.07e-01, 3.10e-01, 5.28e+00, 1.83e+01, 2.38e-03, 1.72e-03, 1.47e-03, 4.12e-03, 3.01e-03, 1.83e-02, 6.60e-03, 2.03e-02, 5.80e-01, 1.88e-03, 2.31e+04, 9.19e-02]    [3.07e-01, 3.10e-01, 5.28e+00, 1.83e+01, 2.38e-03, 1.72e-03, 1.47e-03, 4.12e-03, 3.01e-03, 1.83e-02, 6.60e-03, 2.03e-02, 5.80e-01, 1.88e-03, 2.31e+04, 9.19e-02]    []  \n",
      "1000      [5.80e-01, 2.90e-01, 3.35e+00, 5.51e+00, 1.73e-03, 4.07e-04, 7.55e-03, 1.72e-03, 1.07e-02, 1.34e-02, 1.22e-02, 1.18e-02, 6.36e-01, 9.36e-04, 2.31e+04, 3.49e-02]    [5.80e-01, 2.90e-01, 3.35e+00, 5.51e+00, 1.73e-03, 4.07e-04, 7.55e-03, 1.72e-03, 1.07e-02, 1.34e-02, 1.22e-02, 1.18e-02, 6.36e-01, 9.36e-04, 2.31e+04, 3.49e-02]    []  \n",
      "\n",
      "Best model at step 700:\n",
      "  train loss: 2.31e+04\n",
      "  test loss: 2.31e+04\n",
      "  test metric: []\n",
      "\n",
      "'train' took 31.777486 s\n",
      "\n"
     ]
    },
    {
     "data": {
      "text/plain": [
       "(<deepxde.model.LossHistory at 0x2aaf51fb4c0>,\n",
       " <deepxde.model.TrainState at 0x2aaf51fb490>)"
      ]
     },
     "execution_count": 44,
     "metadata": {},
     "output_type": "execute_result"
    }
   ],
   "source": [
    "\n",
    "# 强烈建议使用 GPU 加速系统.\n",
    "\n",
    "model.compile(\"adam\", lr=1e-3, loss=\"MSE\")\n",
    "model.train(epochs=1000, display_every=100)\n"
   ]
  },
  {
   "cell_type": "markdown",
   "id": "a1ac17f6",
   "metadata": {},
   "source": [
    "L-BFGS 优化"
   ]
  },
  {
   "cell_type": "code",
   "execution_count": 45,
   "id": "7529e984",
   "metadata": {},
   "outputs": [
    {
     "name": "stdout",
     "output_type": "stream",
     "text": [
      "Compiling model...\n",
      "'compile' took 1.899688 s\n",
      "\n",
      "Training model...\n",
      "\n",
      "Step      Train loss                                                                                                                                                          Test loss                                                                                                                                                           Test metric\n",
      "1000      [5.80e-01, 2.90e-01, 3.35e+00, 5.51e+00, 1.73e-03, 4.07e-04, 7.55e-03, 1.72e-03, 1.07e-02, 1.34e-02, 1.22e-02, 1.18e-02, 6.36e-01, 9.36e-04, 2.31e+04, 3.49e-02]    [5.80e-01, 2.90e-01, 3.35e+00, 5.51e+00, 1.73e-03, 4.07e-04, 7.55e-03, 1.72e-03, 1.07e-02, 1.34e-02, 1.22e-02, 1.18e-02, 6.36e-01, 9.36e-04, 2.31e+04, 3.49e-02]    []  \n",
      "2000      [4.48e+00, 3.07e+00, 2.12e+01, 2.37e+01, 1.13e-01, 5.10e-03, 2.41e-02, 4.71e-03, 6.67e-01, 1.62e-01, 3.58e-02, 2.17e-02, 5.97e-01, 1.86e-03, 2.27e+04, 4.16e-01]                                                                                                                                                                            \n",
      "INFO:tensorflow:Optimization terminated with:\n",
      "  Message: STOP: TOTAL NO. of f AND g EVALUATIONS EXCEEDS LIMIT\n",
      "  Objective function value: 22726.644531\n",
      "  Number of iterations: 861\n",
      "  Number of functions evaluations: 1001\n",
      "2001      [4.47e+00, 3.07e+00, 2.09e+01, 2.33e+01, 1.16e-01, 5.06e-03, 2.40e-02, 4.68e-03, 6.54e-01, 1.61e-01, 3.54e-02, 2.16e-02, 5.97e-01, 1.85e-03, 2.27e+04, 4.14e-01]    [4.47e+00, 3.07e+00, 2.09e+01, 2.33e+01, 1.16e-01, 5.06e-03, 2.40e-02, 4.68e-03, 6.54e-01, 1.61e-01, 3.54e-02, 2.16e-02, 5.97e-01, 1.85e-03, 2.27e+04, 4.14e-01]    []  \n",
      "\n",
      "Best model at step 2001:\n",
      "  train loss: 2.27e+04\n",
      "  test loss: 2.27e+04\n",
      "  test metric: []\n",
      "\n",
      "'train' took 66.497019 s\n",
      "\n"
     ]
    },
    {
     "data": {
      "text/plain": [
       "(<deepxde.model.LossHistory at 0x2aaf51fb4c0>,\n",
       " <deepxde.model.TrainState at 0x2aaf51fb490>)"
      ]
     },
     "execution_count": 45,
     "metadata": {},
     "output_type": "execute_result"
    }
   ],
   "source": [
    "dde.optimizers.config.set_LBFGS_options(\n",
    "    maxcor=50,\n",
    "    ftol=1.0 * np.finfo(float).eps,\n",
    "    gtol=1e-08,\n",
    "    maxiter=1000,\n",
    "    maxfun=1000,\n",
    "    maxls=50,\n",
    ")\n",
    "model.compile(\"L-BFGS\")\n",
    "model.train()\n"
   ]
  },
  {
   "cell_type": "code",
   "execution_count": 46,
   "id": "72d2ecbe",
   "metadata": {
    "scrolled": false
   },
   "outputs": [
    {
     "data": {
      "image/png": "[encoded data removed]",
      "text/plain": [
       "<Figure size 432x288 with 6 Axes>"
      ]
     },
     "metadata": {
      "needs_background": "light"
     },
     "output_type": "display_data"
    }
   ],
   "source": [
    "# 做预测\n",
    "prediction = model.predict(X_star, operator=None)\n",
    "\n",
    "u1 = griddata(X_star, prediction[:, 0], (X, T), method=\"cubic\")\n",
    "v1 = griddata(X_star, prediction[:, 1], (X, T), method=\"cubic\")\n",
    "u2 = griddata(X_star, prediction[:, 2], (X, T), method=\"cubic\")\n",
    "v2 = griddata(X_star, prediction[:, 3], (X, T), method=\"cubic\")\n",
    "\n",
    "\n",
    "h1 = np.sqrt(u1 ** 2 + v1 ** 2)\n",
    "h2=np.sqrt(u2**2+v2**2)\n",
    "\n",
    "\n",
    "\n",
    "# 绘制预测\n",
    "fig, ax = plt.subplots(6)\n",
    "\n",
    "ax[0].set_title(\"Results1\")\n",
    "ax[0].set_ylabel(\"Real part1\")\n",
    "ax[0].imshow(\n",
    "    u1.T,\n",
    "    interpolation=\"nearest\", #插值\n",
    "    cmap=\"viridis\", #色彩图\n",
    "    extent=[t_lower, t_upper, x_lower, x_upper], #极值\n",
    "    origin=\"lower\",\n",
    "    aspect=\"auto\",\n",
    ")\n",
    "ax[1].set_ylabel(\"Imaginary part1\")\n",
    "ax[1].imshow(\n",
    "    v1.T,\n",
    "    interpolation=\"nearest\",\n",
    "    cmap=\"viridis\",\n",
    "    extent=[t_lower, t_upper, x_lower, x_upper],\n",
    "    origin=\"lower\",\n",
    "    aspect=\"auto\",\n",
    ")\n",
    "ax[2].set_ylabel(\"Amplitude1\")\n",
    "ax[2].imshow(\n",
    "    h1.T,\n",
    "    interpolation=\"nearest\",\n",
    "    cmap=\"viridis\",\n",
    "    extent=[t_lower, t_upper, x_lower, x_upper],\n",
    "    origin=\"lower\",\n",
    "    aspect=\"auto\",\n",
    ")\n",
    "ax[3].set_title(\"Results2\")\n",
    "ax[3].set_ylabel(\"Real part2\")\n",
    "ax[3].imshow(\n",
    "    u2.T,\n",
    "    interpolation=\"nearest\", #插值\n",
    "    cmap=\"viridis\", #色彩图\n",
    "    extent=[t_lower, t_upper, x_lower, x_upper], #极值\n",
    "    origin=\"lower\",\n",
    "    aspect=\"auto\",\n",
    ")\n",
    "ax[4].set_ylabel(\"Imaginary part2\")\n",
    "ax[4].imshow(\n",
    "    v2.T,\n",
    "    interpolation=\"nearest\",\n",
    "    cmap=\"viridis\",\n",
    "    extent=[t_lower, t_upper, x_lower, x_upper],\n",
    "    origin=\"lower\",\n",
    "    aspect=\"auto\",\n",
    ")\n",
    "ax[5].set_ylabel(\"Amplitude1\")\n",
    "ax[5].imshow(\n",
    "    h2.T,\n",
    "    interpolation=\"nearest\",\n",
    "    cmap=\"viridis\",\n",
    "    extent=[t_lower, t_upper, x_lower, x_upper],\n",
    "    origin=\"lower\",\n",
    "    aspect=\"auto\",\n",
    ")\n",
    "plt.show()\n"
   ]
  },
  {
   "cell_type": "code",
   "execution_count": 47,
   "id": "3f327367",
   "metadata": {},
   "outputs": [
    {
     "name": "stdout",
     "output_type": "stream",
     "text": [
      "[  60   60   60 ... 4540 4534 4529]\n",
      "(402, 512)\n",
      "(402, 512)\n",
      "(205824, 2)\n",
      "(205824, 4)\n"
     ]
    },
    {
     "data": {
      "image/png": "[encoded data removed]",
      "text/plain": [
       "<Figure size 432x288 with 1 Axes>"
      ]
     },
     "metadata": {
      "needs_background": "light"
     },
     "output_type": "display_data"
    }
   ],
   "source": [
    "ax = plt.axes(projection='3d')\n",
    "\n",
    "b=prediction[:,0]**2+prediction[:,1]**2\n",
    "c=min(b)\n",
    "d=b/c\n",
    "d=d.astype(int)\n",
    "print(d)\n",
    "# Data for a three-dimensional line\n",
    "ax.scatter3D(prediction[:, 0],prediction[:, 1],X_star[:,1],c=d*2)\n",
    "print(X.shape)\n",
    "print(T.shape)\n",
    "print(X_star.shape)\n",
    "print(prediction.shape)"
   ]
  },
  {
   "cell_type": "code",
   "execution_count": null,
   "id": "faa4334b",
   "metadata": {},
   "outputs": [],
   "source": []
  }
 ],
 "metadata": {
  "kernelspec": {
   "display_name": "Python 3 (ipykernel)",
   "language": "python",
   "name": "python3"
  },
  "language_info": {
   "codemirror_mode": {
    "name": "ipython",
    "version": 3
   },
   "file_extension": ".py",
   "mimetype": "text/x-python",
   "name": "python",
   "nbconvert_exporter": "python",
   "pygments_lexer": "ipython3",
   "version": "3.9.12"
  }
 },
 "nbformat": 4,
 "nbformat_minor": 5
}
