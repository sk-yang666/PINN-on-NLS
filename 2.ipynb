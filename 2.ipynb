{
 "cells": [
  {
   "cell_type": "markdown",
   "id": "71e959fa",
   "metadata": {},
   "source": [
    "# 代码来源：https://blog.csdn.net/qq_42818403/article/details/122907583"
   ]
  },
  {
   "cell_type": "code",
   "execution_count": 1,
   "id": "dffd5add",
   "metadata": {},
   "outputs": [
    {
     "name": "stderr",
     "output_type": "stream",
     "text": [
      "Using backend: tensorflow.compat.v1\n",
      "\n"
     ]
    },
    {
     "name": "stdout",
     "output_type": "stream",
     "text": [
      "D:\\anaconda\\python.exe\n",
      "WARNING:tensorflow:From C:\\Users\\86183\\AppData\\Roaming\\Python\\Python39\\site-packages\\tensorflow\\python\\compat\\v2_compat.py:107: disable_resource_variables (from tensorflow.python.ops.variable_scope) is deprecated and will be removed in a future version.\n",
      "Instructions for updating:\n",
      "non-resource variables are not supported in the long term\n",
      "Enable just-in-time compilation with XLA.\n",
      "\n",
      "WARNING:tensorflow:From C:\\Users\\86183\\AppData\\Roaming\\Python\\Python39\\site-packages\\deepxde\\nn\\initializers.py:118: The name tf.keras.initializers.he_normal is deprecated. Please use tf.compat.v1.keras.initializers.he_normal instead.\n",
      "\n",
      "D:\\anaconda\\python.exe\n"
     ]
    }
   ],
   "source": [
    "import numpy as np\n",
    "import sys\n",
    "print(sys.executable)\n",
    "\n",
    "import deepxde as dde\n",
    "\n",
    "# 用于绘图\n",
    "import matplotlib.pyplot as plt\n",
    "from scipy.interpolate import griddata\n",
    "\n",
    "print(sys.executable)"
   ]
  },
  {
   "cell_type": "code",
   "execution_count": null,
   "id": "903da615",
   "metadata": {},
   "outputs": [],
   "source": []
  },
  {
   "cell_type": "code",
   "execution_count": 2,
   "id": "b84920bb",
   "metadata": {},
   "outputs": [],
   "source": [
    "#周期性边界条件\n",
    "x_lower = -5\n",
    "x_upper = 5\n",
    "t_lower = 0\n",
    "t_upper = np.pi / 2\n",
    "\n",
    "# 创建 2D 域（用于绘图和输入）\n",
    "x = np.linspace(x_lower, x_upper, 256)\n",
    "t = np.linspace(t_lower, t_upper, 201)\n",
    "X, T = np.meshgrid(x, t)\n",
    "\n",
    "\n",
    "# 整个域变平\n",
    "X_star = np.hstack((X.flatten()[:, None], T.flatten()[:, None]))\n",
    "\n",
    "# 空间和时间域/几何（对于 deepxde 模型）\n",
    "space_domain = dde.geometry.Interval(x_lower, x_upper)\n",
    "time_domain = dde.geometry.TimeDomain(t_lower, t_upper)\n",
    "geomtime = dde.geometry.GeometryXTime(space_domain, time_domain)\n"
   ]
  },
  {
   "cell_type": "code",
   "execution_count": 3,
   "id": "38d45ddd",
   "metadata": {},
   "outputs": [],
   "source": [
    "# 损失的“物理信息”部分\n",
    "\n",
    "\n",
    "def pde(x,y):\n",
    "    \"\"\"\n",
    "    INPUTS:\n",
    "        x: x[:,0] 是 x 坐标\n",
    "           x[:,1] 是 t 坐标\n",
    "        y: 网络输出，在这种情况下:\n",
    "            y[:,0] 是 u(x,t) 实部\n",
    "            y[:,1] 是 v(x,t) 虚部\n",
    "    OUTPUT:\n",
    "        标准形式的 pde，即必须为零的东西\n",
    "    \"\"\"\n",
    "    \n",
    "    \n",
    "    u1 = y[:, 0:1]\n",
    "    v1 = y[:, 1:2]\n",
    "    u2 = y[:, 2:3]\n",
    "    v2 = y[:, 3:4]\n",
    "    \n",
    "\n",
    "    # 在'jacobian'中，i 是输出分量，j 是输入分量\n",
    "    u1_t = dde.grad.jacobian(y, x, i=0, j=1)\n",
    "    v1_t = dde.grad.jacobian(y, x, i=1, j=1)\n",
    "    u2_t = dde.grad.jacobian(y, x, i=2, j=1)\n",
    "    v2_t = dde.grad.jacobian(y, x, i=3, j=1)\n",
    "\n",
    "    u1_x = dde.grad.jacobian(y, x, i=0, j=0)\n",
    "    v1_x = dde.grad.jacobian(y, x, i=1, j=0)\n",
    "    u2_x = dde.grad.jacobian(y, x, i=2, j=0)\n",
    "    v2_x = dde.grad.jacobian(y, x, i=3, j=0)\n",
    "\n",
    "    # 在“hessian”中，i 和 j 都是输入分量。 （Hessian 原则上可以是 d^2y/dxdt、d^2y/d^2x 等）\n",
    "    # 输出组件由“组件”选择\n",
    "    u1_xx = dde.grad.hessian(y, x, component=0, i=0, j=0)\n",
    "    v1_xx = dde.grad.hessian(y, x, component=1, i=0, j=0)\n",
    "    u2_xx = dde.grad.hessian(y, x, component=2, i=0, j=0)\n",
    "    v2_xx = dde.grad.hessian(y, x, component=3, i=0, j=0)\n",
    "\n",
    "    #f_u = u_t + 0.5 * v_xx + (u ** 2 + v ** 2) * v\n",
    "    #f_v = v_t - 0.5 * u_xx - (u ** 2 + v ** 2) * u\n",
    "    \n",
    "    f_u1 = u1_t + v1_xx + 2*(v1 ** 2 + u1 ** 2 + 2*(v2 ** 2 + u2 ** 2)) * v1 - 2*v1*(v2 ** 2 - u2 ** 2) - 4*v2*u1*u2\n",
    "    f_v1 = v1_t - u1_xx - 2*(v1 ** 2 + u1 ** 2 + 2*(v2 ** 2 + u2 ** 2)) * u1 - 2*u1*(v2 ** 2 - u2 ** 2) + 4*v1*v2*u2\n",
    "    \n",
    "    f_u2 = u2_t + v2_xx + 2*(v2 ** 2 + u2 ** 2 + 2*(v1 ** 2 + u1 ** 2)) * v2 - 2*v2*(v1 ** 2 - u1 ** 2) - 4*v1*u2*u1\n",
    "    f_v2 = v2_t - u2_xx - 2*(v2 ** 2 + u2 ** 2 + 2*(v1 ** 2 + u1 ** 2)) * u2 - 2*u2*(v1 ** 2 - u1 ** 2) + 4*v2*v1*u1\n",
    "\n",
    "    return [f_u1, f_v1,f_u2,f_v2]\n"
   ]
  },
  {
   "cell_type": "code",
   "execution_count": 4,
   "id": "63180574",
   "metadata": {},
   "outputs": [],
   "source": [
    "# 边界条件和初始条件\n",
    "\n",
    "# 周期性边界条件\n",
    "bc_u1_0 = dde.PeriodicBC(\n",
    "    geomtime, 0, lambda _, on_boundary: on_boundary, derivative_order=0, component=0\n",
    ")\n",
    "bc_u1_1 = dde.PeriodicBC(\n",
    "    geomtime, 0, lambda _, on_boundary: on_boundary, derivative_order=1, component=0\n",
    ")\n",
    "bc_v1_0 = dde.PeriodicBC(\n",
    "    geomtime, 0, lambda _, on_boundary: on_boundary, derivative_order=0, component=1\n",
    ")\n",
    "bc_v1_1 = dde.PeriodicBC(\n",
    "    geomtime, 0, lambda _, on_boundary: on_boundary, derivative_order=1, component=1\n",
    ")\n",
    "bc_u2_0 = dde.PeriodicBC(\n",
    "    geomtime, 0, lambda _, on_boundary: on_boundary, derivative_order=0, component=2\n",
    ")\n",
    "bc_u2_1 = dde.PeriodicBC(\n",
    "    geomtime, 0, lambda _, on_boundary: on_boundary, derivative_order=1, component=2\n",
    ")\n",
    "bc_v2_0 = dde.PeriodicBC(\n",
    "    geomtime, 0, lambda _, on_boundary: on_boundary, derivative_order=0, component=3\n",
    ")\n",
    "bc_v2_1 = dde.PeriodicBC(\n",
    "    geomtime, 0, lambda _, on_boundary: on_boundary, derivative_order=1, component=3\n",
    ")\n",
    "\n",
    "# 初始条件\n",
    "def init_cond_u(x):\n",
    "    \"2 sech(x)\"\n",
    "    return 2 / np.cosh(x[:, 0:1])\n",
    "\n",
    "\n",
    "def init_cond_v(x):\n",
    "    return 0\n",
    "\n",
    "\n",
    "ic_u1 = dde.IC(geomtime, init_cond_u, lambda _, on_initial: on_initial, component=0)\n",
    "ic_v1 = dde.IC(geomtime, init_cond_v, lambda _, on_initial: on_initial, component=1)\n",
    "ic_u2 = dde.IC(geomtime, init_cond_u, lambda _, on_initial: on_initial, component=2)\n",
    "ic_v2 = dde.IC(geomtime, init_cond_v, lambda _, on_initial: on_initial, component=3)\n"
   ]
  },
  {
   "cell_type": "code",
   "execution_count": 5,
   "id": "c5696daa",
   "metadata": {},
   "outputs": [],
   "source": [
    "data = dde.data.TimePDE(\n",
    "    geomtime,\n",
    "    pde,\n",
    "    [bc_u1_0, bc_u1_1, bc_v1_0, bc_v1_1,bc_u2_0, bc_u2_1, bc_v2_0, bc_v2_1, ic_u1, ic_v1,ic_u2, ic_v2],\n",
    "    num_domain=10000,\n",
    "    num_boundary=20,\n",
    "    num_initial=200,\n",
    "    train_distribution=\"pseudo\",\n",
    ")\n",
    "\n",
    "allow_unused=True\n",
    "# 网络架构\n",
    "net = dde.maps.FNN([2] + [100] * 4 + [4], \"tanh\", \"Glorot normal\")\n",
    "\n",
    "model = dde.Model(data, net)\n"
   ]
  },
  {
   "cell_type": "markdown",
   "id": "a69adb3f",
   "metadata": {},
   "source": [
    "Adam 优化"
   ]
  },
  {
   "cell_type": "code",
   "execution_count": 6,
   "id": "ac036c78",
   "metadata": {
    "scrolled": true
   },
   "outputs": [
    {
     "name": "stdout",
     "output_type": "stream",
     "text": [
      "Compiling model...\n",
      "Building feed-forward neural network...\n",
      "'build' took 0.068077 s\n",
      "\n"
     ]
    },
    {
     "name": "stderr",
     "output_type": "stream",
     "text": [
      "C:\\Users\\86183\\AppData\\Roaming\\Python\\Python39\\site-packages\\deepxde\\nn\\tensorflow_compat_v1\\fnn.py:103: UserWarning: `tf.layers.dense` is deprecated and will be removed in a future version. Please use `tf.keras.layers.Dense` instead.\n",
      "  return tf.layers.dense(\n"
     ]
    },
    {
     "name": "stdout",
     "output_type": "stream",
     "text": [
      "'compile' took 3.017480 s\n",
      "\n",
      "Warning: epochs is deprecated and will be removed in a future version. Use iterations instead.\n",
      "Initializing variables...\n",
      "Training model...\n",
      "\n",
      "Step      Train loss                                                                                                                                                          Test loss                                                                                                                                                           Test metric\n",
      "0         [8.48e-02, 2.40e-01, 4.38e-01, 5.74e-01, 2.86e-01, 5.58e-04, 8.41e-04, 3.42e-07, 1.04e+00, 1.69e-03, 1.60e-01, 5.15e-04, 8.69e-01, 2.24e-04, 9.84e-01, 1.16e-02]    [8.48e-02, 2.40e-01, 4.38e-01, 5.74e-01, 2.86e-01, 5.58e-04, 8.41e-04, 3.42e-07, 1.04e+00, 1.69e-03, 1.60e-01, 5.15e-04, 8.69e-01, 2.24e-04, 9.84e-01, 1.16e-02]    []  \n",
      "100       [9.25e-03, 3.26e-02, 1.06e-02, 3.13e-02, 2.34e-05, 2.03e-03, 4.96e-05, 8.06e-04, 6.15e-05, 1.89e-03, 4.98e-06, 5.55e-04, 2.81e-01, 2.78e-04, 3.11e-01, 5.75e-05]    [9.25e-03, 3.26e-02, 1.06e-02, 3.13e-02, 2.34e-05, 2.03e-03, 4.96e-05, 8.06e-04, 6.15e-05, 1.89e-03, 4.98e-06, 5.55e-04, 2.81e-01, 2.78e-04, 3.11e-01, 5.75e-05]    []  \n",
      "200       [1.01e-02, 3.38e-02, 1.19e-02, 3.31e-02, 3.93e-06, 1.42e-03, 9.47e-05, 6.20e-04, 6.75e-06, 1.32e-03, 1.23e-05, 3.69e-04, 2.26e-01, 4.50e-04, 2.41e-01, 1.18e-03]    [1.01e-02, 3.38e-02, 1.19e-02, 3.31e-02, 3.93e-06, 1.42e-03, 9.47e-05, 6.20e-04, 6.75e-06, 1.32e-03, 1.23e-05, 3.69e-04, 2.26e-01, 4.50e-04, 2.41e-01, 1.18e-03]    []  \n",
      "300       [2.47e-02, 2.54e-02, 2.39e-02, 2.49e-02, 4.29e-05, 1.15e-03, 9.87e-05, 8.70e-04, 5.39e-05, 1.12e-03, 2.92e-05, 8.93e-04, 1.66e-01, 1.98e-03, 1.69e-01, 1.82e-03]    [2.47e-02, 2.54e-02, 2.39e-02, 2.49e-02, 4.29e-05, 1.15e-03, 9.87e-05, 8.70e-04, 5.39e-05, 1.12e-03, 2.92e-05, 8.93e-04, 1.66e-01, 1.98e-03, 1.69e-01, 1.82e-03]    []  \n",
      "400       [2.90e-02, 2.67e-02, 2.95e-02, 2.60e-02, 6.57e-05, 1.01e-03, 2.07e-04, 2.48e-04, 5.81e-05, 9.16e-04, 1.21e-04, 2.70e-04, 1.38e-01, 3.29e-03, 1.40e-01, 3.15e-03]    [2.90e-02, 2.67e-02, 2.95e-02, 2.60e-02, 6.57e-05, 1.01e-03, 2.07e-04, 2.48e-04, 5.81e-05, 9.16e-04, 1.21e-04, 2.70e-04, 1.38e-01, 3.29e-03, 1.40e-01, 3.15e-03]    []  \n",
      "500       [3.01e-02, 3.01e-02, 2.83e-02, 2.82e-02, 1.13e-05, 7.57e-04, 6.19e-05, 8.90e-05, 1.19e-05, 6.78e-04, 1.39e-05, 7.09e-05, 1.19e-01, 4.08e-03, 1.22e-01, 3.72e-03]    [3.01e-02, 3.01e-02, 2.83e-02, 2.82e-02, 1.13e-05, 7.57e-04, 6.19e-05, 8.90e-05, 1.19e-05, 6.78e-04, 1.39e-05, 7.09e-05, 1.19e-01, 4.08e-03, 1.22e-01, 3.72e-03]    []  \n",
      "600       [3.07e-02, 3.17e-02, 2.93e-02, 2.87e-02, 1.47e-03, 5.02e-04, 1.45e-03, 9.83e-05, 3.55e-05, 5.40e-04, 1.22e-03, 1.03e-04, 1.10e-01, 4.12e-03, 1.12e-01, 3.84e-03]    [3.07e-02, 3.17e-02, 2.93e-02, 2.87e-02, 1.47e-03, 5.02e-04, 1.45e-03, 9.83e-05, 3.55e-05, 5.40e-04, 1.22e-03, 1.03e-04, 1.10e-01, 4.12e-03, 1.12e-01, 3.84e-03]    []  \n",
      "700       [2.98e-02, 3.26e-02, 2.87e-02, 3.05e-02, 1.20e-05, 3.08e-04, 1.50e-05, 8.93e-05, 5.39e-06, 4.31e-04, 9.28e-06, 1.02e-04, 1.02e-01, 4.18e-03, 1.05e-01, 3.76e-03]    [2.98e-02, 3.26e-02, 2.87e-02, 3.05e-02, 1.20e-05, 3.08e-04, 1.50e-05, 8.93e-05, 5.39e-06, 4.31e-04, 9.28e-06, 1.02e-04, 1.02e-01, 4.18e-03, 1.05e-01, 3.76e-03]    []  \n",
      "800       [2.66e-02, 3.79e-02, 2.88e-02, 3.31e-02, 1.90e-05, 1.93e-04, 1.19e-03, 6.05e-05, 7.37e-05, 3.35e-04, 2.75e-04, 6.31e-05, 9.61e-02, 4.57e-03, 9.84e-02, 3.88e-03]    [2.66e-02, 3.79e-02, 2.88e-02, 3.31e-02, 1.90e-05, 1.93e-04, 1.19e-03, 6.05e-05, 7.37e-05, 3.35e-04, 2.75e-04, 6.31e-05, 9.61e-02, 4.57e-03, 9.84e-02, 3.88e-03]    []  \n",
      "900       [3.11e-02, 3.68e-02, 2.89e-02, 3.57e-02, 5.76e-03, 1.16e-04, 3.91e-03, 3.80e-05, 4.81e-04, 2.72e-04, 6.64e-03, 3.09e-05, 9.39e-02, 4.80e-03, 9.46e-02, 4.84e-03]    [3.11e-02, 3.68e-02, 2.89e-02, 3.57e-02, 5.76e-03, 1.16e-04, 3.91e-03, 3.80e-05, 4.81e-04, 2.72e-04, 6.64e-03, 3.09e-05, 9.39e-02, 4.80e-03, 9.46e-02, 4.84e-03]    []  \n",
      "1000      [2.77e-02, 3.53e-02, 2.88e-02, 3.29e-02, 5.90e-05, 1.31e-04, 1.03e-05, 2.50e-05, 1.11e-05, 2.27e-04, 9.40e-05, 2.63e-05, 8.99e-02, 4.17e-03, 9.14e-02, 3.77e-03]    [2.77e-02, 3.53e-02, 2.88e-02, 3.29e-02, 5.90e-05, 1.31e-04, 1.03e-05, 2.50e-05, 1.11e-05, 2.27e-04, 9.40e-05, 2.63e-05, 8.99e-02, 4.17e-03, 9.14e-02, 3.77e-03]    []  \n",
      "\n",
      "Best model at step 1000:\n",
      "  train loss: 3.15e-01\n",
      "  test loss: 3.15e-01\n",
      "  test metric: []\n",
      "\n",
      "'train' took 37.625788 s\n",
      "\n"
     ]
    },
    {
     "data": {
      "text/plain": [
       "(<deepxde.model.LossHistory at 0x22865f2bac0>,\n",
       " <deepxde.model.TrainState at 0x22865f04d30>)"
      ]
     },
     "execution_count": 6,
     "metadata": {},
     "output_type": "execute_result"
    }
   ],
   "source": [
    "\n",
    "# 强烈建议使用 GPU 加速系统.\n",
    "\n",
    "model.compile(\"adam\", lr=1e-3, loss=\"MSE\")\n",
    "model.train(epochs=1000, display_every=100)\n"
   ]
  },
  {
   "cell_type": "markdown",
   "id": "a1ac17f6",
   "metadata": {},
   "source": [
    "L-BFGS 优化"
   ]
  },
  {
   "cell_type": "code",
   "execution_count": 7,
   "id": "7529e984",
   "metadata": {},
   "outputs": [
    {
     "name": "stdout",
     "output_type": "stream",
     "text": [
      "Compiling model...\n",
      "'compile' took 1.596497 s\n",
      "\n",
      "Training model...\n",
      "\n",
      "Step      Train loss                                                                                                                                                          Test loss                                                                                                                                                           Test metric\n",
      "1000      [2.77e-02, 3.53e-02, 2.88e-02, 3.29e-02, 5.90e-05, 1.31e-04, 1.03e-05, 2.50e-05, 1.11e-05, 2.27e-04, 9.40e-05, 2.63e-05, 8.99e-02, 4.17e-03, 9.14e-02, 3.77e-03]    [2.77e-02, 3.53e-02, 2.88e-02, 3.29e-02, 5.90e-05, 1.31e-04, 1.03e-05, 2.50e-05, 1.11e-05, 2.27e-04, 9.40e-05, 2.63e-05, 8.99e-02, 4.17e-03, 9.14e-02, 3.77e-03]    []  \n",
      "2000      [1.59e-02, 1.27e-02, 1.64e-02, 1.22e-02, 1.13e-05, 7.46e-05, 7.73e-06, 1.44e-05, 3.93e-05, 5.90e-05, 2.14e-05, 2.24e-05, 3.16e-02, 2.47e-04, 3.13e-02, 3.90e-04]                                                                                                                                                                            \n",
      "INFO:tensorflow:Optimization terminated with:\n",
      "  Message: STOP: TOTAL NO. of f AND g EVALUATIONS EXCEEDS LIMIT\n",
      "  Objective function value: 0.120985\n",
      "  Number of iterations: 979\n",
      "  Number of functions evaluations: 1001\n",
      "2001      [1.59e-02, 1.27e-02, 1.64e-02, 1.22e-02, 1.15e-05, 7.38e-05, 7.26e-06, 1.49e-05, 3.96e-05, 5.85e-05, 2.14e-05, 2.22e-05, 3.16e-02, 2.47e-04, 3.14e-02, 3.87e-04]    [1.59e-02, 1.27e-02, 1.64e-02, 1.22e-02, 1.15e-05, 7.38e-05, 7.26e-06, 1.49e-05, 3.96e-05, 5.85e-05, 2.14e-05, 2.22e-05, 3.16e-02, 2.47e-04, 3.14e-02, 3.87e-04]    []  \n",
      "\n",
      "Best model at step 2001:\n",
      "  train loss: 1.21e-01\n",
      "  test loss: 1.21e-01\n",
      "  test metric: []\n",
      "\n",
      "'train' took 40.971307 s\n",
      "\n"
     ]
    },
    {
     "data": {
      "text/plain": [
       "(<deepxde.model.LossHistory at 0x22865f2bac0>,\n",
       " <deepxde.model.TrainState at 0x22865f04d30>)"
      ]
     },
     "execution_count": 7,
     "metadata": {},
     "output_type": "execute_result"
    }
   ],
   "source": [
    "dde.optimizers.config.set_LBFGS_options(\n",
    "    maxcor=50,\n",
    "    ftol=1.0 * np.finfo(float).eps,\n",
    "    gtol=1e-08,\n",
    "    maxiter=1000,\n",
    "    maxfun=1000,\n",
    "    maxls=50,\n",
    ")\n",
    "model.compile(\"L-BFGS\")\n",
    "model.train()\n"
   ]
  },
  {
   "cell_type": "code",
   "execution_count": 8,
   "id": "72d2ecbe",
   "metadata": {},
   "outputs": [
    {
     "name": "stdout",
     "output_type": "stream",
     "text": [
      "(256, 201)\n",
      "(256, 201)\n"
     ]
    },
    {
     "data": {
      "image/png": "[encoded data removed]",
      "text/plain": [
       "<Figure size 432x288 with 3 Axes>"
      ]
     },
     "metadata": {
      "needs_background": "light"
     },
     "output_type": "display_data"
    }
   ],
   "source": [
    "# 做预测\n",
    "prediction = model.predict(X_star, operator=None)\n",
    "\n",
    "u = griddata(X_star, prediction[:, 0], (X, T), method=\"cubic\")\n",
    "v = griddata(X_star, prediction[:, 1], (X, T), method=\"cubic\")\n",
    "\n",
    "h = np.sqrt(u ** 2 + v ** 2)\n",
    "\n",
    "print(u.T.shape)\n",
    "print(v.T.shape)\n",
    "\n",
    "\n",
    "# 绘制预测\n",
    "fig, ax = plt.subplots(3)\n",
    "\n",
    "ax[0].set_title(\"Results\")\n",
    "ax[0].set_ylabel(\"Real part\")\n",
    "ax[0].imshow(\n",
    "    u.T,\n",
    "    interpolation=\"nearest\", #插值\n",
    "    cmap=\"viridis\", #色彩图\n",
    "    extent=[t_lower, t_upper, x_lower, x_upper], #极值\n",
    "    origin=\"lower\",\n",
    "    aspect=\"auto\",\n",
    ")\n",
    "ax[1].set_ylabel(\"Imaginary part\")\n",
    "ax[1].imshow(\n",
    "    v.T,\n",
    "    interpolation=\"nearest\",\n",
    "    cmap=\"viridis\",\n",
    "    extent=[t_lower, t_upper, x_lower, x_upper],\n",
    "    origin=\"lower\",\n",
    "    aspect=\"auto\",\n",
    ")\n",
    "ax[2].set_ylabel(\"Amplitude\")\n",
    "ax[2].imshow(\n",
    "    h.T,\n",
    "    interpolation=\"nearest\",\n",
    "    cmap=\"viridis\",\n",
    "    extent=[t_lower, t_upper, x_lower, x_upper],\n",
    "    origin=\"lower\",\n",
    "    aspect=\"auto\",\n",
    ")\n",
    "\n",
    "plt.show()\n"
   ]
  },
  {
   "cell_type": "code",
   "execution_count": null,
   "id": "3f327367",
   "metadata": {},
   "outputs": [],
   "source": []
  }
 ],
 "metadata": {
  "kernelspec": {
   "display_name": "Python 3 (ipykernel)",
   "language": "python",
   "name": "python3"
  },
  "language_info": {
   "codemirror_mode": {
    "name": "ipython",
    "version": 3
   },
   "file_extension": ".py",
   "mimetype": "text/x-python",
   "name": "python",
   "nbconvert_exporter": "python",
   "pygments_lexer": "ipython3",
   "version": "3.9.12"
  }
 },
 "nbformat": 4,
 "nbformat_minor": 5
}
