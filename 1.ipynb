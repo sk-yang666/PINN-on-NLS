{
 "cells": [
  {
   "cell_type": "markdown",
   "id": "5d9c3931",
   "metadata": {},
   "source": [
    "# 代码来源：https://blog.csdn.net/qq_42818403/article/details/122907583"
   ]
  },
  {
   "cell_type": "code",
   "execution_count": 2,
   "id": "cdb9571d",
   "metadata": {},
   "outputs": [
    {
     "name": "stderr",
     "output_type": "stream",
     "text": [
      "Using backend: tensorflow.compat.v1\n",
      "\n"
     ]
    },
    {
     "ename": "ModuleNotFoundError",
     "evalue": "No module named 'tensorflow'",
     "output_type": "error",
     "traceback": [
      "\u001b[1;31m---------------------------------------------------------------------------\u001b[0m",
      "\u001b[1;31mModuleNotFoundError\u001b[0m                       Traceback (most recent call last)",
      "Input \u001b[1;32mIn [2]\u001b[0m, in \u001b[0;36m<cell line: 3>\u001b[1;34m()\u001b[0m\n\u001b[0;32m      1\u001b[0m \u001b[38;5;28;01mimport\u001b[39;00m \u001b[38;5;21;01mnumpy\u001b[39;00m \u001b[38;5;28;01mas\u001b[39;00m \u001b[38;5;21;01mnp\u001b[39;00m\n\u001b[1;32m----> 3\u001b[0m \u001b[38;5;28;01mimport\u001b[39;00m \u001b[38;5;21;01mdeepxde\u001b[39;00m \u001b[38;5;28;01mas\u001b[39;00m \u001b[38;5;21;01mdde\u001b[39;00m\n\u001b[0;32m      5\u001b[0m \u001b[38;5;66;03m# 用于绘图\u001b[39;00m\n\u001b[0;32m      6\u001b[0m \u001b[38;5;28;01mimport\u001b[39;00m \u001b[38;5;21;01mmatplotlib\u001b[39;00m\u001b[38;5;21;01m.\u001b[39;00m\u001b[38;5;21;01mpyplot\u001b[39;00m \u001b[38;5;28;01mas\u001b[39;00m \u001b[38;5;21;01mplt\u001b[39;00m\n",
      "File \u001b[1;32m~\\AppData\\Roaming\\Python\\Python39\\site-packages\\deepxde\\__init__.py:17\u001b[0m, in \u001b[0;36m<module>\u001b[1;34m\u001b[0m\n\u001b[0;32m     14\u001b[0m \u001b[38;5;28;01mfrom\u001b[39;00m \u001b[38;5;21;01m.\u001b[39;00m\u001b[38;5;21;01m__about__\u001b[39;00m \u001b[38;5;28;01mimport\u001b[39;00m __version__\n\u001b[0;32m     16\u001b[0m \u001b[38;5;66;03m# Should import backend before importing anything else\u001b[39;00m\n\u001b[1;32m---> 17\u001b[0m \u001b[38;5;28;01mfrom\u001b[39;00m \u001b[38;5;21;01m.\u001b[39;00m \u001b[38;5;28;01mimport\u001b[39;00m backend\n\u001b[0;32m     19\u001b[0m \u001b[38;5;28;01mfrom\u001b[39;00m \u001b[38;5;21;01m.\u001b[39;00m \u001b[38;5;28;01mimport\u001b[39;00m callbacks\n\u001b[0;32m     20\u001b[0m \u001b[38;5;28;01mfrom\u001b[39;00m \u001b[38;5;21;01m.\u001b[39;00m \u001b[38;5;28;01mimport\u001b[39;00m data\n",
      "File \u001b[1;32m~\\AppData\\Roaming\\Python\\Python39\\site-packages\\deepxde\\backend\\__init__.py:100\u001b[0m, in \u001b[0;36m<module>\u001b[1;34m\u001b[0m\n\u001b[0;32m     96\u001b[0m     set_default_backend(\u001b[38;5;124m\"\u001b[39m\u001b[38;5;124mtensorflow.compat.v1\u001b[39m\u001b[38;5;124m\"\u001b[39m)\n\u001b[0;32m     97\u001b[0m     \u001b[38;5;28;01mreturn\u001b[39;00m \u001b[38;5;124m\"\u001b[39m\u001b[38;5;124mtensorflow.compat.v1\u001b[39m\u001b[38;5;124m\"\u001b[39m\n\u001b[1;32m--> 100\u001b[0m \u001b[43mload_backend\u001b[49m\u001b[43m(\u001b[49m\u001b[43mget_preferred_backend\u001b[49m\u001b[43m(\u001b[49m\u001b[43m)\u001b[49m\u001b[43m)\u001b[49m\n\u001b[0;32m    103\u001b[0m \u001b[38;5;28;01mdef\u001b[39;00m \u001b[38;5;21mis_enabled\u001b[39m(api):\n\u001b[0;32m    104\u001b[0m     \u001b[38;5;124;03m\"\"\"Return true if the api is enabled by the current backend.\u001b[39;00m\n\u001b[0;32m    105\u001b[0m \n\u001b[0;32m    106\u001b[0m \u001b[38;5;124;03m    Args:\u001b[39;00m\n\u001b[1;32m   (...)\u001b[0m\n\u001b[0;32m    110\u001b[0m \u001b[38;5;124;03m        bool: ``True`` if the API is enabled by the current backend.\u001b[39;00m\n\u001b[0;32m    111\u001b[0m \u001b[38;5;124;03m    \"\"\"\u001b[39;00m\n",
      "File \u001b[1;32m~\\AppData\\Roaming\\Python\\Python39\\site-packages\\deepxde\\backend\\__init__.py:36\u001b[0m, in \u001b[0;36mload_backend\u001b[1;34m(mod_name)\u001b[0m\n\u001b[0;32m     33\u001b[0m     \u001b[38;5;28;01mraise\u001b[39;00m \u001b[38;5;167;01mNotImplementedError\u001b[39;00m(\u001b[38;5;124m\"\u001b[39m\u001b[38;5;124mUnsupported backend: \u001b[39m\u001b[38;5;132;01m%s\u001b[39;00m\u001b[38;5;124m\"\u001b[39m \u001b[38;5;241m%\u001b[39m mod_name)\n\u001b[0;32m     35\u001b[0m \u001b[38;5;28mprint\u001b[39m(\u001b[38;5;124m\"\u001b[39m\u001b[38;5;124mUsing backend: \u001b[39m\u001b[38;5;132;01m%s\u001b[39;00m\u001b[38;5;130;01m\\n\u001b[39;00m\u001b[38;5;124m\"\u001b[39m \u001b[38;5;241m%\u001b[39m mod_name, file\u001b[38;5;241m=\u001b[39msys\u001b[38;5;241m.\u001b[39mstderr, flush\u001b[38;5;241m=\u001b[39m\u001b[38;5;28;01mTrue\u001b[39;00m)\n\u001b[1;32m---> 36\u001b[0m mod \u001b[38;5;241m=\u001b[39m \u001b[43mimportlib\u001b[49m\u001b[38;5;241;43m.\u001b[39;49m\u001b[43mimport_module\u001b[49m\u001b[43m(\u001b[49m\u001b[38;5;124;43m\"\u001b[39;49m\u001b[38;5;124;43m.\u001b[39;49m\u001b[38;5;132;43;01m%s\u001b[39;49;00m\u001b[38;5;124;43m\"\u001b[39;49m\u001b[43m \u001b[49m\u001b[38;5;241;43m%\u001b[39;49m\u001b[43m \u001b[49m\u001b[43mmod_name\u001b[49m\u001b[38;5;241;43m.\u001b[39;49m\u001b[43mreplace\u001b[49m\u001b[43m(\u001b[49m\u001b[38;5;124;43m\"\u001b[39;49m\u001b[38;5;124;43m.\u001b[39;49m\u001b[38;5;124;43m\"\u001b[39;49m\u001b[43m,\u001b[49m\u001b[43m \u001b[49m\u001b[38;5;124;43m\"\u001b[39;49m\u001b[38;5;124;43m_\u001b[39;49m\u001b[38;5;124;43m\"\u001b[39;49m\u001b[43m)\u001b[49m\u001b[43m,\u001b[49m\u001b[43m \u001b[49m\u001b[38;5;18;43m__name__\u001b[39;49m\u001b[43m)\u001b[49m\n\u001b[0;32m     37\u001b[0m thismod \u001b[38;5;241m=\u001b[39m sys\u001b[38;5;241m.\u001b[39mmodules[\u001b[38;5;18m__name__\u001b[39m]\n\u001b[0;32m     38\u001b[0m \u001b[38;5;66;03m# log backend name\u001b[39;00m\n",
      "File \u001b[1;32mD:\\anaconda\\lib\\importlib\\__init__.py:127\u001b[0m, in \u001b[0;36mimport_module\u001b[1;34m(name, package)\u001b[0m\n\u001b[0;32m    125\u001b[0m             \u001b[38;5;28;01mbreak\u001b[39;00m\n\u001b[0;32m    126\u001b[0m         level \u001b[38;5;241m+\u001b[39m\u001b[38;5;241m=\u001b[39m \u001b[38;5;241m1\u001b[39m\n\u001b[1;32m--> 127\u001b[0m \u001b[38;5;28;01mreturn\u001b[39;00m \u001b[43m_bootstrap\u001b[49m\u001b[38;5;241;43m.\u001b[39;49m\u001b[43m_gcd_import\u001b[49m\u001b[43m(\u001b[49m\u001b[43mname\u001b[49m\u001b[43m[\u001b[49m\u001b[43mlevel\u001b[49m\u001b[43m:\u001b[49m\u001b[43m]\u001b[49m\u001b[43m,\u001b[49m\u001b[43m \u001b[49m\u001b[43mpackage\u001b[49m\u001b[43m,\u001b[49m\u001b[43m \u001b[49m\u001b[43mlevel\u001b[49m\u001b[43m)\u001b[49m\n",
      "File \u001b[1;32m~\\AppData\\Roaming\\Python\\Python39\\site-packages\\deepxde\\backend\\tensorflow_compat_v1\\__init__.py:5\u001b[0m, in \u001b[0;36m<module>\u001b[1;34m\u001b[0m\n\u001b[0;32m      1\u001b[0m \u001b[38;5;28;01mimport\u001b[39;00m \u001b[38;5;21;01mos\u001b[39;00m\n\u001b[0;32m      3\u001b[0m os\u001b[38;5;241m.\u001b[39menviron[\u001b[38;5;124m\"\u001b[39m\u001b[38;5;124mTF_FORCE_GPU_ALLOW_GROWTH\u001b[39m\u001b[38;5;124m\"\u001b[39m] \u001b[38;5;241m=\u001b[39m \u001b[38;5;124m\"\u001b[39m\u001b[38;5;124mtrue\u001b[39m\u001b[38;5;124m\"\u001b[39m\n\u001b[1;32m----> 5\u001b[0m \u001b[38;5;28;01mfrom\u001b[39;00m \u001b[38;5;21;01m.\u001b[39;00m\u001b[38;5;21;01mtensor\u001b[39;00m \u001b[38;5;28;01mimport\u001b[39;00m \u001b[38;5;241m*\u001b[39m\n",
      "File \u001b[1;32m~\\AppData\\Roaming\\Python\\Python39\\site-packages\\deepxde\\backend\\tensorflow_compat_v1\\tensor.py:4\u001b[0m, in \u001b[0;36m<module>\u001b[1;34m\u001b[0m\n\u001b[0;32m      1\u001b[0m \u001b[38;5;124;03m\"\"\"tensorflow.compat.v1 backend implementation\"\"\"\u001b[39;00m\n\u001b[0;32m      2\u001b[0m \u001b[38;5;28;01mfrom\u001b[39;00m \u001b[38;5;21;01mdistutils\u001b[39;00m\u001b[38;5;21;01m.\u001b[39;00m\u001b[38;5;21;01mversion\u001b[39;00m \u001b[38;5;28;01mimport\u001b[39;00m LooseVersion\n\u001b[1;32m----> 4\u001b[0m \u001b[38;5;28;01mimport\u001b[39;00m \u001b[38;5;21;01mtensorflow\u001b[39;00m\u001b[38;5;21;01m.\u001b[39;00m\u001b[38;5;21;01mcompat\u001b[39;00m\u001b[38;5;21;01m.\u001b[39;00m\u001b[38;5;21;01mv1\u001b[39;00m \u001b[38;5;28;01mas\u001b[39;00m \u001b[38;5;21;01mtf\u001b[39;00m\n\u001b[0;32m      7\u001b[0m \u001b[38;5;28;01mif\u001b[39;00m LooseVersion(tf\u001b[38;5;241m.\u001b[39m__version__) \u001b[38;5;241m<\u001b[39m LooseVersion(\u001b[38;5;124m\"\u001b[39m\u001b[38;5;124m2.2.0\u001b[39m\u001b[38;5;124m\"\u001b[39m):\n\u001b[0;32m      8\u001b[0m     \u001b[38;5;28;01mraise\u001b[39;00m \u001b[38;5;167;01mRuntimeError\u001b[39;00m(\u001b[38;5;124m\"\u001b[39m\u001b[38;5;124mDeepXDE requires TensorFlow>=2.2.0.\u001b[39m\u001b[38;5;124m\"\u001b[39m)\n",
      "\u001b[1;31mModuleNotFoundError\u001b[0m: No module named 'tensorflow'"
     ]
    }
   ],
   "source": [
    "import numpy as np\n",
    "\n",
    "import deepxde as dde\n",
    "\n",
    "# 用于绘图\n",
    "import matplotlib.pyplot as plt\n",
    "from scipy.interpolate import griddata\n"
   ]
  },
  {
   "cell_type": "code",
   "execution_count": null,
   "id": "11c0513c",
   "metadata": {},
   "outputs": [],
   "source": []
  },
  {
   "cell_type": "code",
   "execution_count": null,
   "id": "7f47b9c2",
   "metadata": {},
   "outputs": [],
   "source": [
    "#周期性边界条件\n",
    "x_lower = -5\n",
    "x_upper = 5\n",
    "t_lower = 0\n",
    "t_upper = np.pi / 2\n",
    "\n",
    "# 创建 2D 域（用于绘图和输入）\n",
    "x = np.linspace(x_lower, x_upper, 256)\n",
    "t = np.linspace(t_lower, t_upper, 201)\n",
    "X, T = np.meshgrid(x, t)\n",
    "\n",
    "# 整个域变平\n",
    "X_star = np.hstack((X.flatten()[:, None], T.flatten()[:, None]))\n",
    "\n",
    "# 空间和时间域/几何（对于 deepxde 模型）\n",
    "space_domain = dde.geometry.Interval(x_lower, x_upper)\n",
    "time_domain = dde.geometry.TimeDomain(t_lower, t_upper)\n",
    "geomtime = dde.geometry.GeometryXTime(space_domain, time_domain)\n"
   ]
  },
  {
   "cell_type": "code",
   "execution_count": null,
   "id": "42ec06c9",
   "metadata": {},
   "outputs": [],
   "source": [
    "# 损失的“物理信息”部分\n",
    "\n",
    "\n",
    "def pde(x, y):\n",
    "    \"\"\"\n",
    "    INPUTS:\n",
    "        x: x[:,0] 是 x 坐标\n",
    "           x[:,1] 是 t 坐标\n",
    "        y: 网络输出，在这种情况下:\n",
    "            y[:,0] 是 u(x,t) 实部\n",
    "            y[:,1] 是 v(x,t) 虚部\n",
    "    OUTPUT:\n",
    "        标准形式的 pde，即必须为零的东西\n",
    "    \"\"\"\n",
    "\n",
    "    u = y[:, 0:1]\n",
    "    v = y[:, 1:2]\n",
    "\n",
    "    # 在'jacobian'中，i 是输出分量，j 是输入分量\n",
    "    u_t = dde.grad.jacobian(y, x, i=0, j=1)\n",
    "    v_t = dde.grad.jacobian(y, x, i=1, j=1)\n",
    "\n",
    "    u_x = dde.grad.jacobian(y, x, i=0, j=0)\n",
    "    v_x = dde.grad.jacobian(y, x, i=1, j=0)\n",
    "\n",
    "    # 在“hessian”中，i 和 j 都是输入分量。 （Hessian 原则上可以是 d^2y/dxdt、d^2y/d^2x 等）\n",
    "    # 输出组件由“组件”选择\n",
    "    u_xx = dde.grad.hessian(y, x, component=0, i=0, j=0)\n",
    "    v_xx = dde.grad.hessian(y, x, component=1, i=0, j=0)\n",
    "\n",
    "    f_u = u_t + 0.5 * v_xx + (u ** 2 + v ** 2) * v\n",
    "    f_v = v_t - 0.5 * u_xx - (u ** 2 + v ** 2) * u\n",
    "\n",
    "    return [f_u, f_v]\n"
   ]
  },
  {
   "cell_type": "code",
   "execution_count": null,
   "id": "ffd987ea",
   "metadata": {},
   "outputs": [],
   "source": [
    "# 边界条件和初始条件\n",
    "\n",
    "# 周期性边界条件\n",
    "bc_u_0 = dde.PeriodicBC(\n",
    "    geomtime, 0, lambda _, on_boundary: on_boundary, derivative_order=0, component=0\n",
    ")\n",
    "bc_u_1 = dde.PeriodicBC(\n",
    "    geomtime, 0, lambda _, on_boundary: on_boundary, derivative_order=1, component=0\n",
    ")\n",
    "bc_v_0 = dde.PeriodicBC(\n",
    "    geomtime, 0, lambda _, on_boundary: on_boundary, derivative_order=0, component=1\n",
    ")\n",
    "bc_v_1 = dde.PeriodicBC(\n",
    "    geomtime, 0, lambda _, on_boundary: on_boundary, derivative_order=1, component=1\n",
    ")\n",
    "\n",
    "# 初始条件\n",
    "def init_cond_u(x):\n",
    "    \"2 sech(x)\"\n",
    "    return 2 / np.cosh(x[:, 0:1])\n",
    "\n",
    "\n",
    "def init_cond_v(x):\n",
    "    return 0\n",
    "\n",
    "\n",
    "ic_u = dde.IC(geomtime, init_cond_u, lambda _, on_initial: on_initial, component=0)\n",
    "ic_v = dde.IC(geomtime, init_cond_v, lambda _, on_initial: on_initial, component=1)\n"
   ]
  },
  {
   "cell_type": "code",
   "execution_count": null,
   "id": "af2dd8a2",
   "metadata": {},
   "outputs": [],
   "source": [
    "data = dde.data.TimePDE(\n",
    "    geomtime,\n",
    "    pde,\n",
    "    [bc_u_0, bc_u_1, bc_v_0, bc_v_1, ic_u, ic_v],\n",
    "    num_domain=10000,\n",
    "    num_boundary=20,\n",
    "    num_initial=200,\n",
    "    train_distribution=\"pseudo\",\n",
    ")\n",
    "\n",
    "# 网络架构\n",
    "net = dde.maps.FNN([2] + [100] * 4 + [2], \"tanh\", \"Glorot normal\")\n",
    "\n",
    "model = dde.Model(data, net)\n"
   ]
  },
  {
   "cell_type": "markdown",
   "id": "942ec56d",
   "metadata": {},
   "source": [
    "Adam 优化"
   ]
  },
  {
   "cell_type": "code",
   "execution_count": null,
   "id": "f352f034",
   "metadata": {},
   "outputs": [],
   "source": [
    "\n",
    "# 强烈建议使用 GPU 加速系统.\n",
    "\n",
    "model.compile(\"adam\", lr=1e-3, loss=\"MSE\")\n",
    "model.train(epochs=1000, display_every=100)\n"
   ]
  },
  {
   "cell_type": "markdown",
   "id": "c5fd3860",
   "metadata": {},
   "source": [
    "L-BFGS 优化"
   ]
  },
  {
   "cell_type": "code",
   "execution_count": null,
   "id": "b899fcbe",
   "metadata": {},
   "outputs": [],
   "source": [
    "dde.optimizers.config.set_LBFGS_options(\n",
    "    maxcor=50,\n",
    "    ftol=1.0 * np.finfo(float).eps,\n",
    "    gtol=1e-08,\n",
    "    maxiter=1000,\n",
    "    maxfun=1000,\n",
    "    maxls=50,\n",
    ")\n",
    "model.compile(\"L-BFGS\")\n",
    "model.train()\n"
   ]
  },
  {
   "cell_type": "code",
   "execution_count": null,
   "id": "b64e9dc9",
   "metadata": {},
   "outputs": [],
   "source": [
    "# 做预测\n",
    "prediction = model.predict(X_star, operator=None)\n",
    "\n",
    "u = griddata(X_star, prediction[:, 0], (X, T), method=\"cubic\")\n",
    "v = griddata(X_star, prediction[:, 1], (X, T), method=\"cubic\")\n",
    "\n",
    "h = np.sqrt(u ** 2 + v ** 2)\n",
    "\n",
    "print(u.T.shape)\n",
    "print(v.T.shape)\n",
    "\n",
    "\n",
    "# 绘制预测\n",
    "fig, ax = plt.subplots(3)\n",
    "\n",
    "ax[0].set_title(\"Results\")\n",
    "ax[0].set_ylabel(\"Real part\")\n",
    "ax[0].imshow(\n",
    "    u.T,\n",
    "    interpolation=\"nearest\", #插值\n",
    "    cmap=\"viridis\", #色彩图\n",
    "    extent=[t_lower, t_upper, x_lower, x_upper], #极值\n",
    "    origin=\"lower\",\n",
    "    aspect=\"auto\",\n",
    ")\n",
    "ax[1].set_ylabel(\"Imaginary part\")\n",
    "ax[1].imshow(\n",
    "    v.T,\n",
    "    interpolation=\"nearest\",\n",
    "    cmap=\"viridis\",\n",
    "    extent=[t_lower, t_upper, x_lower, x_upper],\n",
    "    origin=\"lower\",\n",
    "    aspect=\"auto\",\n",
    ")\n",
    "ax[2].set_ylabel(\"Amplitude\")\n",
    "ax[2].imshow(\n",
    "    h.T,\n",
    "    interpolation=\"nearest\",\n",
    "    cmap=\"viridis\",\n",
    "    extent=[t_lower, t_upper, x_lower, x_upper],\n",
    "    origin=\"lower\",\n",
    "    aspect=\"auto\",\n",
    ")\n",
    "\n",
    "plt.show()\n"
   ]
  },
  {
   "cell_type": "code",
   "execution_count": null,
   "id": "f0b64224",
   "metadata": {},
   "outputs": [],
   "source": []
  },
  {
   "cell_type": "code",
   "execution_count": null,
   "id": "1c092930",
   "metadata": {},
   "outputs": [],
   "source": []
  }
 ],
 "metadata": {
  "kernelspec": {
   "display_name": "Python 3 (ipykernel)",
   "language": "python",
   "name": "python3"
  },
  "language_info": {
   "codemirror_mode": {
    "name": "ipython",
    "version": 3
   },
   "file_extension": ".py",
   "mimetype": "text/x-python",
   "name": "python",
   "nbconvert_exporter": "python",
   "pygments_lexer": "ipython3",
   "version": "3.9.12"
  }
 },
 "nbformat": 4,
 "nbformat_minor": 5
}
